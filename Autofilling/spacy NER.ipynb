{
 "cells": [
  {
   "cell_type": "code",
   "execution_count": 19,
   "metadata": {},
   "outputs": [],
   "source": [
    "import spacy\n",
    "\n",
    "def extract_job_information(job_description):\n",
    "\n",
    "    nlp = spacy.load(\"en_core_web_sm\")\n",
    "    doc = nlp(job_description)\n",
    "\n",
    "    company_name = \"\"\n",
    "    position = \"\"\n",
    "    description = \"\"\n",
    "    deadline = \"\"\n",
    "    location = \"\"\n",
    "    mode = \"\"\n",
    "    job_type = \"\"\n",
    "    gender = \"\"\n",
    "    experience_required = \"\"\n",
    "\n",
    "    for ent in doc.ents:\n",
    "        if ent.label_ == \"ORG\":\n",
    "            company_name = ent.text\n",
    "        elif ent.label_ == \"POSITION\" or \"PERSON\":\n",
    "            position = ent.text\n",
    "        elif ent.label_ == \"DESCRIPTION\":\n",
    "            description = ent.text\n",
    "        elif ent.label_ == \"DATE\":\n",
    "            deadline = ent.text\n",
    "        elif ent.label_ == \"GPE\":\n",
    "            location = ent.text\n",
    "        elif ent.label_ == \"MODE\":\n",
    "            mode = ent.text\n",
    "        elif ent.label_ == \"TYPE\":\n",
    "            job_type = ent.text\n",
    "        elif ent.label_ == \"GENDER\":\n",
    "            gender = ent.text\n",
    "        elif ent.label_ == \"EXPERIENCE\":\n",
    "            experience_required = ent.text\n",
    "\n",
    "    return {\n",
    "    \"company_name\": company_name,\n",
    "    \"position\": position,\n",
    "    \"description\": description,\n",
    "    \"deadline\": deadline,\n",
    "    \"location\": location,\n",
    "    \"mode\": mode,\n",
    "    \"job_type\": job_type,\n",
    "    \"gender\": gender,\n",
    "    \"experience_required\": experience_required,\n",
    "    }"
   ]
  },
  {
   "cell_type": "code",
   "execution_count": 8,
   "metadata": {},
   "outputs": [
    {
     "data": {
      "text/plain": [
       "{'company_name': '',\n",
       " 'position': 'Telemarketer',\n",
       " 'description': '',\n",
       " 'deadline': '',\n",
       " 'location': '',\n",
       " 'mode': '',\n",
       " 'job_type': '',\n",
       " 'gender': '',\n",
       " 'experience_required': ''}"
      ]
     },
     "execution_count": 8,
     "metadata": {},
     "output_type": "execute_result"
    }
   ],
   "source": [
    "extract_job_information(\"This is a full-time on-site role located in Lahore for a Telemarketer. The Telemarketer will be responsible for making inbound/outbound calls to potential customers, introducing our products and services, following up with leads and prospects, closing sales, and achieving monthly targets. The Telemarketer will also collect and update customer information in our database, and provide excellent customer service and support.\")"
   ]
  },
  {
   "cell_type": "code",
   "execution_count": 10,
   "metadata": {},
   "outputs": [
    {
     "data": {
      "text/plain": [
       "{'company_name': 'Edge',\n",
       " 'position': 'four',\n",
       " 'description': '',\n",
       " 'deadline': '',\n",
       " 'location': '',\n",
       " 'mode': '',\n",
       " 'job_type': '',\n",
       " 'gender': '',\n",
       " 'experience_required': ''}"
      ]
     },
     "execution_count": 10,
     "metadata": {},
     "output_type": "execute_result"
    }
   ],
   "source": [
    "extract_job_information(\"At Edge, we’re on a mission to create a world where geographic borders are no longer a barrier for people to obtain full-time employment and fair wages. That’s why we’ve created a global HR solution that seamlessly connects exceptional talent from all over the world with businesses in North America that most need to fill positions. By making hiring globally easier than hiring locally, we provide businesses access to a broader talent pool and help them accelerate their hiring process. Spread across four continents, we’re a global team disrupting the norms of how people can work together.\")"
   ]
  },
  {
   "cell_type": "code",
   "execution_count": 11,
   "metadata": {},
   "outputs": [
    {
     "data": {
      "text/plain": [
       "{'company_name': '',\n",
       " 'position': 'Build',\n",
       " 'description': '',\n",
       " 'deadline': '',\n",
       " 'location': '',\n",
       " 'mode': '',\n",
       " 'job_type': '',\n",
       " 'gender': '',\n",
       " 'experience_required': ''}"
      ]
     },
     "execution_count": 11,
     "metadata": {},
     "output_type": "execute_result"
    }
   ],
   "source": [
    "extract_job_information(\"We are looking for an iOS Developer, who has experience in developing complex and scalable mobile applications. To be able to Build and deploy high-quality native applications. The candidates for this position should be able to take responsibility for the completion of designated software features; designing suitable solutions to complex problems with assistance from management.\")"
   ]
  },
  {
   "cell_type": "code",
   "execution_count": 12,
   "metadata": {},
   "outputs": [
    {
     "data": {
      "text/plain": [
       "{'company_name': 'SQL',\n",
       " 'position': 'Monday to Friday',\n",
       " 'description': '',\n",
       " 'deadline': '',\n",
       " 'location': '',\n",
       " 'mode': '',\n",
       " 'job_type': '',\n",
       " 'gender': '',\n",
       " 'experience_required': ''}"
      ]
     },
     "execution_count": 12,
     "metadata": {},
     "output_type": "execute_result"
    }
   ],
   "source": [
    "extract_job_information(\"We are ‘The Kalculators’ – a firm that comprises specialized, certified, professional accountants on a mission to deliver an extensive range of accountancy services. With over 7 years’ experience in providing accounting, taxation, and advisory services to a diverse clientele, we are committed to the highest degree of service excellence and the utmost integrity at all times. We are now expanding our accounting service by developing a SAAS platform, which will be used by accountants all over Australia. You are required to work from our base in Lahore - Firdos market. Job timing - 3:30 am to 11:30 am, Monday to Friday. Role Description: This is a full-time on-site role for a Senior Software Tester - QA - Night Shift located in Lahore. As a Senior Software Tester - QA, you’ll work closely with cross-functional teams to design, develop, test, and maintain software applications. You will also be responsible for ensuring the quality of software releases, creating test plans and test cases, and working with developers to reproduce and debug issues. Qualifications: Bachelor's degree in Computer Science, Software Engineering, or a related field 4+ years of experience in Software Testing and Quality Assurance Excellent knowledge of software testing methodologies, tools, and processes Experience with Agile development methodologies Strong experience in automated testing, including scripting and execution Strong experience in manual testing Excellent communication and collaboration skills Solid skills in documentation Ability to work well independently and as part of a team Experience with SQL and database testing Understanding of web application architecture and technology. You are required to work from our base in Lahore - Firdos market. Job timing - 3:30 am to 11:30 am, Monday to Friday.\")"
   ]
  },
  {
   "cell_type": "code",
   "execution_count": 20,
   "metadata": {},
   "outputs": [
    {
     "data": {
      "text/plain": [
       "{'company_name': 'XYZ Company',\n",
       " 'deadline': 'January 15, 2023',\n",
       " 'description': '',\n",
       " 'position': '',\n",
       " 'location': '',\n",
       " 'mode': '',\n",
       " 'job_type': '',\n",
       " 'gender': '',\n",
       " 'experience_required': ''}"
      ]
     },
     "execution_count": 20,
     "metadata": {},
     "output_type": "execute_result"
    }
   ],
   "source": [
    "extract_job_information(\"We are looking for a skilled Data Scientist to join our team at XYZ Company. The ideal candidate should have expertise in machine learning and data analysis. The position is based in San Francisco, and the deadline for applications is January 15, 2023. This is a full-time role.\")"
   ]
  },
  {
   "cell_type": "code",
   "execution_count": 21,
   "metadata": {},
   "outputs": [
    {
     "data": {
      "text/plain": [
       "{'company_name': 'ABC Corporation',\n",
       " 'deadline': 'February 28, 2023',\n",
       " 'description': '',\n",
       " 'position': '',\n",
       " 'location': '',\n",
       " 'mode': '',\n",
       " 'job_type': '',\n",
       " 'gender': '',\n",
       " 'experience_required': ''}"
      ]
     },
     "execution_count": 21,
     "metadata": {},
     "output_type": "execute_result"
    }
   ],
   "source": [
    "extract_job_information(\"ABC Corporation is hiring a Senior Software Engineer with experience in Java and cloud technologies. The role involves designing and implementing scalable software solutions. The job is based in New York City, and we prefer candidates with at least 7 years of experience. The deadline for applications is February 28, 2023.\")"
   ]
  },
  {
   "cell_type": "code",
   "execution_count": 22,
   "metadata": {},
   "outputs": [
    {
     "data": {
      "text/plain": [
       "{'company_name': 'DEF Agency',\n",
       " 'deadline': 'March 10, 2023',\n",
       " 'description': '',\n",
       " 'position': '',\n",
       " 'location': '',\n",
       " 'mode': '',\n",
       " 'job_type': '',\n",
       " 'gender': '',\n",
       " 'experience_required': ''}"
      ]
     },
     "execution_count": 22,
     "metadata": {},
     "output_type": "execute_result"
    }
   ],
   "source": [
    "extract_job_information(\"Join our dynamic team as a Marketing Specialist at DEF Agency. The successful candidate will have a strong background in digital marketing and social media management. This is a part-time position located in Los Angeles. We encourage candidates of all genders to apply. Application deadline is March 10, 2023.\")"
   ]
  },
  {
   "cell_type": "code",
   "execution_count": 9,
   "metadata": {},
   "outputs": [
    {
     "name": "stdout",
     "output_type": "stream",
     "text": [
      "{'GPE', 'PERSON', Telemarketer, Telemarketer, monthly, Lahore, 'DATE'}\n"
     ]
    }
   ],
   "source": [
    "import spacy\n",
    "\n",
    "nlp = spacy.load(\"en_core_web_sm\")\n",
    "labels = set()\n",
    "\n",
    "# Process a small text to get entities and their labels\n",
    "doc = nlp(\"This is a full-time on-site role located in Lahore for a Telemarketer. The Telemarketer will be responsible for making inbound/outbound calls to potential customers, introducing our products and services, following up with leads and prospects, closing sales, and achieving monthly targets. The Telemarketer will also collect and update customer information in our database, and provide excellent customer service and support.\")\n",
    "for ent in doc.ents:\n",
    "    labels.add(ent)\n",
    "    labels.add(ent.label_)\n",
    "\n",
    "print(labels)\n"
   ]
  }
 ],
 "metadata": {
  "kernelspec": {
   "display_name": "Python 3",
   "language": "python",
   "name": "python3"
  },
  "language_info": {
   "codemirror_mode": {
    "name": "ipython",
    "version": 3
   },
   "file_extension": ".py",
   "mimetype": "text/x-python",
   "name": "python",
   "nbconvert_exporter": "python",
   "pygments_lexer": "ipython3",
   "version": "3.11.4"
  }
 },
 "nbformat": 4,
 "nbformat_minor": 2
}
