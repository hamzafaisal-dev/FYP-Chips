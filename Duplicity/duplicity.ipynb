{
 "cells": [
  {
   "cell_type": "code",
   "execution_count": 14,
   "metadata": {},
   "outputs": [],
   "source": [
    "import fasttext\n",
    "import re\n",
    "import nltk\n",
    "from nltk.tokenize.toktok import ToktokTokenizer\n",
    "from nltk.corpus import stopwords\n",
    "import unicodedata\n",
    "from emoji import demojize\n",
    "import numpy as np\n",
    "from sklearn.metrics.pairwise import cosine_similarity"
   ]
  },
  {
   "cell_type": "code",
   "execution_count": 3,
   "metadata": {},
   "outputs": [],
   "source": [
    "def text_cleaning(text_data, stop_words, lemmatizer):\n",
    "    text_data = unicodedata.normalize('NFKD', text_data).encode('ascii', 'ignore').decode('utf-8', 'ignore')\n",
    "    text_data = text_data.lower()\n",
    "    text_data = demojize(text_data)\n",
    "    pattern_punct = re.compile(r'([.,/#!$%^&*?;:{}=_`~()+-])\\1{1,}')\n",
    "    text_data = pattern_punct.sub(r'\\1', text_data)\n",
    "    text_data = re.sub(' {2,}',' ', text_data)\n",
    "    text_data = re.sub(r\"[^a-zA-Z?!]+\", ' ', text_data)\n",
    "    text_data = str(text_data)\n",
    "    tokenizer = ToktokTokenizer()\n",
    "    text_data = tokenizer.tokenize(text_data)\n",
    "    text_data = [item for item in text_data if item not in stop_words]\n",
    "    text_data = [lemmatizer.lemmatize(word = w, pos = 'v') for w in text_data]\n",
    "    text_data = ' '.join (text_data)\n",
    "    return text_data"
   ]
  },
  {
   "cell_type": "code",
   "execution_count": 7,
   "metadata": {},
   "outputs": [],
   "source": [
    "def load_shit():\n",
    "    #nltk.download('stopwords')\n",
    "    stop_words = set(stopwords.words('english'))\n",
    "    lemmatizer = nltk.stem.WordNetLemmatizer()\n",
    "    model = fasttext.load_model('C://GitHub Repos//FYP-Chips//NSFW Text//English//profanity_model_eng.bin')\n",
    "    #nltk.download('wordnet')\n",
    "    return stop_words, lemmatizer, model"
   ]
  },
  {
   "cell_type": "code",
   "execution_count": 27,
   "metadata": {},
   "outputs": [],
   "source": [
    "def check_duplicity(user_input1, user_input2, stop_words, lemmatizer, model):\n",
    "    print(\"\\nYou entered:\", user_input1)\n",
    "    print(\"\\nYou entered:\", user_input2)\n",
    "    user_input1 = text_cleaning(user_input1, stop_words, lemmatizer)\n",
    "    user_input2 = text_cleaning(user_input2, stop_words, lemmatizer)\n",
    "    user_input1 = user_input1.split()\n",
    "    user_input2 = user_input2.split()\n",
    "    embeddings1 = []\n",
    "    embeddings2 = []\n",
    "    for i in range(len(user_input1)):\n",
    "        embeddings1.append(model.get_word_vector(user_input1[i]))\n",
    "    for i in range(len(user_input2)):\n",
    "        embeddings2.append(model.get_word_vector(user_input2[i]))\n",
    "    embeddings1 = np.mean(embeddings1, axis=0)\n",
    "    embeddings2 = np.mean(embeddings2, axis=0)\n",
    "    similarity_score = cosine_similarity([embeddings1], [embeddings2])[0][0]\n",
    "    percentage_score = (similarity_score + 1) * 50\n",
    "    print(\"Similarity Score: \" + str(percentage_score) + \"%\")"
   ]
  },
  {
   "cell_type": "code",
   "execution_count": 9,
   "metadata": {},
   "outputs": [],
   "source": [
    "stop_words, lemmatizer, model = load_shit()"
   ]
  },
  {
   "cell_type": "code",
   "execution_count": 28,
   "metadata": {},
   "outputs": [
    {
     "name": "stdout",
     "output_type": "stream",
     "text": [
      "\n",
      "You entered: The quick brown fox jumps over the lazy dog.\n",
      "\n",
      "You entered: The quick brown fox jumps over the lazy dog.\n",
      "Similarity Score: 100.0%\n"
     ]
    }
   ],
   "source": [
    "check_duplicity( \"The quick brown fox jumps over the lazy dog.\",  \"The quick brown fox jumps over the lazy dog.\", stop_words, lemmatizer, model)"
   ]
  },
  {
   "cell_type": "code",
   "execution_count": 29,
   "metadata": {},
   "outputs": [
    {
     "name": "stdout",
     "output_type": "stream",
     "text": [
      "\n",
      "You entered: what da dog doin.\n",
      "\n",
      "You entered: nigar faggot.\n",
      "Similarity Score: 0.3382444381713867%\n"
     ]
    }
   ],
   "source": [
    "check_duplicity( \"what da dog doin.\",  \"nigar faggot.\", stop_words, lemmatizer, model)"
   ]
  },
  {
   "cell_type": "code",
   "execution_count": 30,
   "metadata": {},
   "outputs": [
    {
     "name": "stdout",
     "output_type": "stream",
     "text": [
      "\n",
      "You entered: We are seeking a software engineer to join our innovative team. The ideal candidate should have strong programming skills in Python and experience with machine learning. You will work on cutting-edge projects and collaborate with a talented group of professionals.\n",
      "\n",
      "You entered: Our team is in search of a software engineer to become a part of our forward-thinking group. We are looking for a candidate with strong Python programming skills and experience in machine learning. You will have the opportunity to work on groundbreaking projects and collaborate with a team of talented professionals.\n",
      "Similarity Score: 99.95861947536469%\n",
      "\n",
      "You entered: We are seeking a software engineer to join our innovative team. The ideal candidate should have strong programming skills in Python and experience with machine learning. You will work on cutting-edge projects and collaborate with a talented group of professionals.\n",
      "\n",
      "You entered: We are seeking a graphic designer to join our creative department. The ideal candidate should have a strong portfolio of design work and experience with Adobe Creative Suite. You will be responsible for creating visually appealing graphics and collaborating with our design team.\n",
      "Similarity Score: 99.92881715297699%\n"
     ]
    }
   ],
   "source": [
    "# Dummy Job Posting Description 1\n",
    "job_posting1 = \"We are seeking a software engineer to join our innovative team. The ideal candidate should have strong programming skills in Python and experience with machine learning. You will work on cutting-edge projects and collaborate with a talented group of professionals.\"\n",
    "\n",
    "# Paraphrase of Job Posting Description 1\n",
    "job_posting1_paraphrase = \"We are looking for a software engineer to join our creative team. The perfect candidate should possess excellent Python programming skills and a background in machine learning. You will be involved in state-of-the-art initiatives and partner with a skilled team of experts.\"\n",
    "\n",
    "# Dummy Job Posting Description 2 (Similar to 1)\n",
    "job_posting2 = \"Our team is in search of a software engineer to become a part of our forward-thinking group. We are looking for a candidate with strong Python programming skills and experience in machine learning. You will have the opportunity to work on groundbreaking projects and collaborate with a team of talented professionals.\"\n",
    "\n",
    "# Dummy Job Posting Description 3 (Different)\n",
    "job_posting3 = \"We are seeking a graphic designer to join our creative department. The ideal candidate should have a strong portfolio of design work and experience with Adobe Creative Suite. You will be responsible for creating visually appealing graphics and collaborating with our design team.\"\n",
    "\n",
    "# Testing duplicity calculator\n",
    "check_duplicity(job_posting1, job_posting2, stop_words, lemmatizer, model)\n",
    "check_duplicity(job_posting1, job_posting3, stop_words, lemmatizer, model)"
   ]
  },
  {
   "cell_type": "code",
   "execution_count": 31,
   "metadata": {},
   "outputs": [
    {
     "name": "stdout",
     "output_type": "stream",
     "text": [
      "\n",
      "You entered: We are looking for a front-end web developer to join our web development team. The ideal candidate should have expertise in HTML, CSS, and JavaScript. You will be responsible for creating responsive and visually appealing websites for our clients.\n",
      "\n",
      "You entered: Our company is seeking a back-end software engineer to become part of our software development team. The perfect candidate should have a strong background in Python and experience with database management. You will work on optimizing server performance and collaborating with our software developers.\n",
      "Similarity Score: 99.9157965183258%\n"
     ]
    }
   ],
   "source": [
    "# Dummy Job Posting Description 1\n",
    "job_posting1 = \"We are looking for a front-end web developer to join our web development team. The ideal candidate should have expertise in HTML, CSS, and JavaScript. You will be responsible for creating responsive and visually appealing websites for our clients.\"\n",
    "\n",
    "# Dummy Job Posting Description 2 (Related but Different)\n",
    "job_posting2 = \"Our company is seeking a back-end software engineer to become part of our software development team. The perfect candidate should have a strong background in Python and experience with database management. You will work on optimizing server performance and collaborating with our software developers.\"\n",
    "\n",
    "# Testing duplicity calculator\n",
    "check_duplicity(job_posting1, job_posting2, stop_words, lemmatizer, model)\n"
   ]
  }
 ],
 "metadata": {
  "kernelspec": {
   "display_name": "Python 3",
   "language": "python",
   "name": "python3"
  },
  "language_info": {
   "codemirror_mode": {
    "name": "ipython",
    "version": 3
   },
   "file_extension": ".py",
   "mimetype": "text/x-python",
   "name": "python",
   "nbconvert_exporter": "python",
   "pygments_lexer": "ipython3",
   "version": "3.11.4"
  }
 },
 "nbformat": 4,
 "nbformat_minor": 2
}
