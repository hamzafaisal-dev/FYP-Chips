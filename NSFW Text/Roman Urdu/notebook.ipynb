{
 "cells": [
  {
   "cell_type": "markdown",
   "metadata": {},
   "source": [
    "# Dataset"
   ]
  },
  {
   "cell_type": "code",
   "execution_count": 1,
   "metadata": {},
   "outputs": [],
   "source": [
    "import pandas as pd"
   ]
  },
  {
   "cell_type": "code",
   "execution_count": 2,
   "metadata": {},
   "outputs": [],
   "source": [
    "tsv1 = pd.read_csv('task_1_test.tsv', sep='\\t', header=None)\n",
    "tsv2 = pd.read_csv('task_1_train.tsv', sep='\\t', header=None)\n",
    "csv1 = pd.read_csv('Roman Urdu DataSet.csv', header=None)\n",
    "csv2 = pd.read_csv('Roman Urdu Toxic Dataset.csv', header=None)"
   ]
  },
  {
   "cell_type": "code",
   "execution_count": 3,
   "metadata": {},
   "outputs": [
    {
     "name": "stdout",
     "output_type": "stream",
     "text": [
      "(2003, 2)\n",
      "(7209, 2)\n",
      "(20229, 3)\n",
      "(4999, 2)\n"
     ]
    }
   ],
   "source": [
    "print(tsv1.shape)\n",
    "print(tsv2.shape)\n",
    "print(csv1.shape)\n",
    "print(csv2.shape)"
   ]
  },
  {
   "cell_type": "code",
   "execution_count": 4,
   "metadata": {},
   "outputs": [
    {
     "name": "stdout",
     "output_type": "stream",
     "text": [
      "                                                       0         1    2\n",
      "20224           Hamari jese awam teli laga k mazay leti   Negative  NaN\n",
      "20225  Kaash hum b parhay likhay hotayKabhi likhtay g...  Negative  NaN\n",
      "20226  Bahi sayasat kufrrr ha saaaf bttttt ha qanon s...  Negative  NaN\n",
      "20227                     aanti toh gussa e kr gai hain   Negative  NaN\n",
      "20228  mai b sirf shadi kanry ki waja say imran khan ...  Positive  NaN\n",
      "(20229, 3)\n",
      "0    object\n",
      "1    object\n",
      "2    object\n",
      "dtype: object\n"
     ]
    }
   ],
   "source": [
    "print(csv1.tail())\n",
    "print(csv1.shape)\n",
    "print(csv1.dtypes)"
   ]
  },
  {
   "cell_type": "code",
   "execution_count": 5,
   "metadata": {},
   "outputs": [],
   "source": [
    "csv1 = csv1.drop(2, axis=1)"
   ]
  },
  {
   "cell_type": "code",
   "execution_count": 6,
   "metadata": {},
   "outputs": [
    {
     "name": "stdout",
     "output_type": "stream",
     "text": [
      "                                                       0         1\n",
      "20224           Hamari jese awam teli laga k mazay leti   Negative\n",
      "20225  Kaash hum b parhay likhay hotayKabhi likhtay g...  Negative\n",
      "20226  Bahi sayasat kufrrr ha saaaf bttttt ha qanon s...  Negative\n",
      "20227                     aanti toh gussa e kr gai hain   Negative\n",
      "20228  mai b sirf shadi kanry ki waja say imran khan ...  Positive\n",
      "(20229, 2)\n",
      "0    object\n",
      "1    object\n",
      "dtype: object\n"
     ]
    }
   ],
   "source": [
    "print(csv1.tail())\n",
    "print(csv1.shape)\n",
    "print(csv1.dtypes)"
   ]
  },
  {
   "cell_type": "code",
   "execution_count": 7,
   "metadata": {},
   "outputs": [
    {
     "data": {
      "text/html": [
       "<div>\n",
       "<style scoped>\n",
       "    .dataframe tbody tr th:only-of-type {\n",
       "        vertical-align: middle;\n",
       "    }\n",
       "\n",
       "    .dataframe tbody tr th {\n",
       "        vertical-align: top;\n",
       "    }\n",
       "\n",
       "    .dataframe thead th {\n",
       "        text-align: right;\n",
       "    }\n",
       "</style>\n",
       "<table border=\"1\" class=\"dataframe\">\n",
       "  <thead>\n",
       "    <tr style=\"text-align: right;\">\n",
       "      <th></th>\n",
       "      <th>0</th>\n",
       "      <th>1</th>\n",
       "    </tr>\n",
       "  </thead>\n",
       "  <tbody>\n",
       "    <tr>\n",
       "      <th>0</th>\n",
       "      <td>Sai kha ya her kisi kay bus ki bat nhi hai lak...</td>\n",
       "      <td>0</td>\n",
       "    </tr>\n",
       "    <tr>\n",
       "      <th>1</th>\n",
       "      <td>sahi bt h</td>\n",
       "      <td>0</td>\n",
       "    </tr>\n",
       "    <tr>\n",
       "      <th>2</th>\n",
       "      <td>Kya bt hai,</td>\n",
       "      <td>0</td>\n",
       "    </tr>\n",
       "    <tr>\n",
       "      <th>3</th>\n",
       "      <td>Wah je wah</td>\n",
       "      <td>0</td>\n",
       "    </tr>\n",
       "    <tr>\n",
       "      <th>4</th>\n",
       "      <td>Are wha kaya bat hai</td>\n",
       "      <td>0</td>\n",
       "    </tr>\n",
       "  </tbody>\n",
       "</table>\n",
       "</div>"
      ],
      "text/plain": [
       "                                                   0  1\n",
       "0  Sai kha ya her kisi kay bus ki bat nhi hai lak...  0\n",
       "1                                          sahi bt h  0\n",
       "2                                        Kya bt hai,  0\n",
       "3                                         Wah je wah  0\n",
       "4                               Are wha kaya bat hai  0"
      ]
     },
     "execution_count": 7,
     "metadata": {},
     "output_type": "execute_result"
    }
   ],
   "source": [
    "csv1[1] = csv1[1].replace(\"Negative\", 1).replace(\"Positive\", 0).replace(\"Neutral\", 0)\n",
    "csv1.head()"
   ]
  },
  {
   "cell_type": "code",
   "execution_count": 8,
   "metadata": {},
   "outputs": [
    {
     "data": {
      "text/html": [
       "<div>\n",
       "<style scoped>\n",
       "    .dataframe tbody tr th:only-of-type {\n",
       "        vertical-align: middle;\n",
       "    }\n",
       "\n",
       "    .dataframe tbody tr th {\n",
       "        vertical-align: top;\n",
       "    }\n",
       "\n",
       "    .dataframe thead th {\n",
       "        text-align: right;\n",
       "    }\n",
       "</style>\n",
       "<table border=\"1\" class=\"dataframe\">\n",
       "  <thead>\n",
       "    <tr style=\"text-align: right;\">\n",
       "      <th></th>\n",
       "      <th>0</th>\n",
       "      <th>1</th>\n",
       "    </tr>\n",
       "  </thead>\n",
       "  <tbody>\n",
       "    <tr>\n",
       "      <th>0</th>\n",
       "      <td>artifical color ha jo k cancer ki waja banta ha</td>\n",
       "      <td>1</td>\n",
       "    </tr>\n",
       "    <tr>\n",
       "      <th>1</th>\n",
       "      <td>Lanat beshumar jhootey</td>\n",
       "      <td>1</td>\n",
       "    </tr>\n",
       "    <tr>\n",
       "      <th>2</th>\n",
       "      <td>farigh taste ha inka</td>\n",
       "      <td>1</td>\n",
       "    </tr>\n",
       "    <tr>\n",
       "      <th>3</th>\n",
       "      <td>beef wala kharab hai</td>\n",
       "      <td>1</td>\n",
       "    </tr>\n",
       "    <tr>\n",
       "      <th>4</th>\n",
       "      <td>menay complaine ki ha tumhari</td>\n",
       "      <td>1</td>\n",
       "    </tr>\n",
       "  </tbody>\n",
       "</table>\n",
       "</div>"
      ],
      "text/plain": [
       "                                                 0  1\n",
       "0  artifical color ha jo k cancer ki waja banta ha  1\n",
       "1                           Lanat beshumar jhootey  1\n",
       "2                             farigh taste ha inka  1\n",
       "3                             beef wala kharab hai  1\n",
       "4                    menay complaine ki ha tumhari  1"
      ]
     },
     "execution_count": 8,
     "metadata": {},
     "output_type": "execute_result"
    }
   ],
   "source": [
    "csv2.head()"
   ]
  },
  {
   "cell_type": "code",
   "execution_count": 9,
   "metadata": {},
   "outputs": [
    {
     "data": {
      "text/html": [
       "<div>\n",
       "<style scoped>\n",
       "    .dataframe tbody tr th:only-of-type {\n",
       "        vertical-align: middle;\n",
       "    }\n",
       "\n",
       "    .dataframe tbody tr th {\n",
       "        vertical-align: top;\n",
       "    }\n",
       "\n",
       "    .dataframe thead th {\n",
       "        text-align: right;\n",
       "    }\n",
       "</style>\n",
       "<table border=\"1\" class=\"dataframe\">\n",
       "  <thead>\n",
       "    <tr style=\"text-align: right;\">\n",
       "      <th></th>\n",
       "      <th>0</th>\n",
       "      <th>1</th>\n",
       "    </tr>\n",
       "  </thead>\n",
       "  <tbody>\n",
       "    <tr>\n",
       "      <th>0</th>\n",
       "      <td>keh do ke ye sach hai😂😂😂🤫</td>\n",
       "      <td>0</td>\n",
       "    </tr>\n",
       "    <tr>\n",
       "      <th>1</th>\n",
       "      <td>and i am on ch_air 😆😁 koi acha sa song apki p...</td>\n",
       "      <td>0</td>\n",
       "    </tr>\n",
       "    <tr>\n",
       "      <th>2</th>\n",
       "      <td>tum log pappu mat bano kyunki sonia aur pawar ...</td>\n",
       "      <td>1</td>\n",
       "    </tr>\n",
       "    <tr>\n",
       "      <th>3</th>\n",
       "      <td>neither.  bhadwaa tantra, rather.  madarjaat ...</td>\n",
       "      <td>1</td>\n",
       "    </tr>\n",
       "    <tr>\n",
       "      <th>4</th>\n",
       "      <td>bhok ku rha ha.., kutte k pille chal phut yaha...</td>\n",
       "      <td>1</td>\n",
       "    </tr>\n",
       "  </tbody>\n",
       "</table>\n",
       "</div>"
      ],
      "text/plain": [
       "                                                   0  1\n",
       "0                          keh do ke ye sach hai😂😂😂🤫  0\n",
       "1   and i am on ch_air 😆😁 koi acha sa song apki p...  0\n",
       "2  tum log pappu mat bano kyunki sonia aur pawar ...  1\n",
       "3   neither.  bhadwaa tantra, rather.  madarjaat ...  1\n",
       "4  bhok ku rha ha.., kutte k pille chal phut yaha...  1"
      ]
     },
     "execution_count": 9,
     "metadata": {},
     "output_type": "execute_result"
    }
   ],
   "source": [
    "tsv1[1] = tsv1[1].replace(0, 2).replace(1, 0).replace(2, 1)\n",
    "tsv1.head()"
   ]
  },
  {
   "cell_type": "code",
   "execution_count": 10,
   "metadata": {},
   "outputs": [
    {
     "data": {
      "text/html": [
       "<div>\n",
       "<style scoped>\n",
       "    .dataframe tbody tr th:only-of-type {\n",
       "        vertical-align: middle;\n",
       "    }\n",
       "\n",
       "    .dataframe tbody tr th {\n",
       "        vertical-align: top;\n",
       "    }\n",
       "\n",
       "    .dataframe thead th {\n",
       "        text-align: right;\n",
       "    }\n",
       "</style>\n",
       "<table border=\"1\" class=\"dataframe\">\n",
       "  <thead>\n",
       "    <tr style=\"text-align: right;\">\n",
       "      <th></th>\n",
       "      <th>0</th>\n",
       "      <th>1</th>\n",
       "    </tr>\n",
       "  </thead>\n",
       "  <tbody>\n",
       "    <tr>\n",
       "      <th>0</th>\n",
       "      <td>pichwara se akhrot kahe fod rahe ho chicha</td>\n",
       "      <td>0</td>\n",
       "    </tr>\n",
       "    <tr>\n",
       "      <th>1</th>\n",
       "      <td>bhaunk bhaunk ke pagal ho jaata ab tak....</td>\n",
       "      <td>1</td>\n",
       "    </tr>\n",
       "    <tr>\n",
       "      <th>2</th>\n",
       "      <td>shivsaina  nam mulla  saina  rakh  hijra  uddh...</td>\n",
       "      <td>1</td>\n",
       "    </tr>\n",
       "    <tr>\n",
       "      <th>3</th>\n",
       "      <td>there are some yahodi daboo like imran chore z...</td>\n",
       "      <td>1</td>\n",
       "    </tr>\n",
       "    <tr>\n",
       "      <th>4</th>\n",
       "      <td>chutiye ye hunduism ni he islam he , isme koi ...</td>\n",
       "      <td>1</td>\n",
       "    </tr>\n",
       "  </tbody>\n",
       "</table>\n",
       "</div>"
      ],
      "text/plain": [
       "                                                   0  1\n",
       "0         pichwara se akhrot kahe fod rahe ho chicha  0\n",
       "1         bhaunk bhaunk ke pagal ho jaata ab tak....  1\n",
       "2  shivsaina  nam mulla  saina  rakh  hijra  uddh...  1\n",
       "3  there are some yahodi daboo like imran chore z...  1\n",
       "4  chutiye ye hunduism ni he islam he , isme koi ...  1"
      ]
     },
     "execution_count": 10,
     "metadata": {},
     "output_type": "execute_result"
    }
   ],
   "source": [
    "tsv2[1] = tsv2[1].replace(0, 2).replace(1, 0).replace(2, 1)\n",
    "tsv2.head()"
   ]
  },
  {
   "cell_type": "code",
   "execution_count": 11,
   "metadata": {},
   "outputs": [
    {
     "name": "stdout",
     "output_type": "stream",
     "text": [
      "(2003, 2)\n",
      "(7209, 2)\n",
      "(20229, 2)\n",
      "(4999, 2)\n"
     ]
    }
   ],
   "source": [
    "print(tsv1.shape)\n",
    "print(tsv2.shape)\n",
    "print(csv1.shape)\n",
    "print(csv2.shape)"
   ]
  },
  {
   "cell_type": "code",
   "execution_count": 12,
   "metadata": {},
   "outputs": [
    {
     "name": "stdout",
     "output_type": "stream",
     "text": [
      "                                                   0  1\n",
      "0                          keh do ke ye sach hai😂😂😂🤫  0\n",
      "1   and i am on ch_air 😆😁 koi acha sa song apki p...  0\n",
      "2  tum log pappu mat bano kyunki sonia aur pawar ...  1\n",
      "3   neither.  bhadwaa tantra, rather.  madarjaat ...  1\n",
      "4  bhok ku rha ha.., kutte k pille chal phut yaha...  1\n",
      "                                                   0  1\n",
      "0         pichwara se akhrot kahe fod rahe ho chicha  0\n",
      "1         bhaunk bhaunk ke pagal ho jaata ab tak....  1\n",
      "2  shivsaina  nam mulla  saina  rakh  hijra  uddh...  1\n",
      "3  there are some yahodi daboo like imran chore z...  1\n",
      "4  chutiye ye hunduism ni he islam he , isme koi ...  1\n",
      "                                                   0  1\n",
      "0  Sai kha ya her kisi kay bus ki bat nhi hai lak...  0\n",
      "1                                          sahi bt h  0\n",
      "2                                        Kya bt hai,  0\n",
      "3                                         Wah je wah  0\n",
      "4                               Are wha kaya bat hai  0\n",
      "                                                 0  1\n",
      "0  artifical color ha jo k cancer ki waja banta ha  1\n",
      "1                           Lanat beshumar jhootey  1\n",
      "2                             farigh taste ha inka  1\n",
      "3                             beef wala kharab hai  1\n",
      "4                    menay complaine ki ha tumhari  1\n"
     ]
    }
   ],
   "source": [
    "print(tsv1.head())\n",
    "print(tsv2.head())\n",
    "print(csv1.head())\n",
    "print(csv2.head())"
   ]
  },
  {
   "cell_type": "code",
   "execution_count": 13,
   "metadata": {},
   "outputs": [
    {
     "name": "stdout",
     "output_type": "stream",
     "text": [
      "                                                   0  1\n",
      "0                          keh do ke ye sach hai😂😂😂🤫  0\n",
      "1   and i am on ch_air 😆😁 koi acha sa song apki p...  0\n",
      "2  tum log pappu mat bano kyunki sonia aur pawar ...  1\n",
      "3   neither.  bhadwaa tantra, rather.  madarjaat ...  1\n",
      "4  bhok ku rha ha.., kutte k pille chal phut yaha...  1\n"
     ]
    }
   ],
   "source": [
    "train = pd.concat([tsv1, csv1, tsv2, csv2])\n",
    "print(train.head())"
   ]
  },
  {
   "cell_type": "code",
   "execution_count": 14,
   "metadata": {},
   "outputs": [
    {
     "name": "stdout",
     "output_type": "stream",
     "text": [
      "(34440, 2)\n"
     ]
    }
   ],
   "source": [
    "print(train.shape)"
   ]
  },
  {
   "cell_type": "code",
   "execution_count": 15,
   "metadata": {},
   "outputs": [],
   "source": [
    "# train.to_csv('train.csv', index=False)"
   ]
  },
  {
   "cell_type": "markdown",
   "metadata": {},
   "source": [
    "# Model"
   ]
  },
  {
   "cell_type": "code",
   "execution_count": 16,
   "metadata": {},
   "outputs": [],
   "source": [
    "import numpy as np\n",
    "import fasttext\n",
    "import re\n",
    "import nltk\n",
    "from nltk.tokenize.toktok import ToktokTokenizer\n",
    "from nltk.corpus import stopwords\n",
    "from nltk.stem import WordNetLemmatizer\n",
    "import unicodedata\n",
    "from emoji import demojize"
   ]
  },
  {
   "cell_type": "code",
   "execution_count": 17,
   "metadata": {},
   "outputs": [],
   "source": [
    "stop_words = set(stopwords.words('english'))\n",
    "lemmatizer = nltk.stem.WordNetLemmatizer()"
   ]
  },
  {
   "cell_type": "code",
   "execution_count": 18,
   "metadata": {},
   "outputs": [],
   "source": [
    "def text_cleaning(text_data):\n",
    "\n",
    "  # Remove accented characters\n",
    "  text_data = unicodedata.normalize('NFKD', text_data).encode('ascii', 'ignore').decode('utf-8', 'ignore')\n",
    "\n",
    "  # Case conversion\n",
    "  text_data = text_data.lower()\n",
    "\n",
    "  # Demojize\n",
    "  text_data = demojize(text_data)\n",
    "\n",
    "  # Reducing repeated punctuations\n",
    "  pattern_punct = re.compile(r'([.,/#!$%^&*?;:{}=_`~()+-])\\1{1,}')\n",
    "  text_data = pattern_punct.sub(r'\\1', text_data)\n",
    "  \n",
    "  # Prevent redundant replacements of single-space with single-space\n",
    "  text_data = re.sub(' {2,}',' ', text_data)\n",
    "  \n",
    "  # Remove special characters\n",
    "  text_data = re.sub(r\"[^a-zA-Z?!]+\", ' ', text_data)\n",
    "\n",
    "  # Converting text to strings\n",
    "  text_data = str(text_data)\n",
    "\n",
    "  # Tokenization\n",
    "  tokenizer = ToktokTokenizer()\n",
    "  text_data = tokenizer.tokenize(text_data)\n",
    "\n",
    "  # Removing stopwords\n",
    "  text_data = [item for item in text_data if item not in stop_words]\n",
    "  \n",
    "  # Lemmatization\n",
    "  text_data = [lemmatizer.lemmatize(word = w, pos = 'v') for w in text_data]\n",
    "  \n",
    "  # Convert list of tokens to string data type\n",
    "  text_data = ' '.join (text_data)\n",
    "\n",
    "  return text_data"
   ]
  },
  {
   "cell_type": "code",
   "execution_count": 21,
   "metadata": {},
   "outputs": [],
   "source": [
    "train[0] = train[0].astype(str)\n",
    "train[0] = train[0].apply(text_cleaning)"
   ]
  },
  {
   "cell_type": "code",
   "execution_count": 22,
   "metadata": {},
   "outputs": [
    {
     "data": {
      "text/html": [
       "<div>\n",
       "<style scoped>\n",
       "    .dataframe tbody tr th:only-of-type {\n",
       "        vertical-align: middle;\n",
       "    }\n",
       "\n",
       "    .dataframe tbody tr th {\n",
       "        vertical-align: top;\n",
       "    }\n",
       "\n",
       "    .dataframe thead th {\n",
       "        text-align: right;\n",
       "    }\n",
       "</style>\n",
       "<table border=\"1\" class=\"dataframe\">\n",
       "  <thead>\n",
       "    <tr style=\"text-align: right;\">\n",
       "      <th></th>\n",
       "      <th>0</th>\n",
       "      <th>1</th>\n",
       "    </tr>\n",
       "  </thead>\n",
       "  <tbody>\n",
       "    <tr>\n",
       "      <th>0</th>\n",
       "      <td>keh ke ye sach hai</td>\n",
       "      <td>0</td>\n",
       "    </tr>\n",
       "    <tr>\n",
       "      <th>1</th>\n",
       "      <td>ch air koi acha sa song apki pasand ka laga ka...</td>\n",
       "      <td>0</td>\n",
       "    </tr>\n",
       "    <tr>\n",
       "      <th>2</th>\n",
       "      <td>tum log pappu mat bano kyunki sonia aur pawar ...</td>\n",
       "      <td>1</td>\n",
       "    </tr>\n",
       "    <tr>\n",
       "      <th>3</th>\n",
       "      <td>neither bhadwaa tantra rather madarjaat loug s...</td>\n",
       "      <td>1</td>\n",
       "    </tr>\n",
       "    <tr>\n",
       "      <th>4</th>\n",
       "      <td>bhok ku rha ha kutte k pille chal phut yaha se...</td>\n",
       "      <td>1</td>\n",
       "    </tr>\n",
       "  </tbody>\n",
       "</table>\n",
       "</div>"
      ],
      "text/plain": [
       "                                                   0  1\n",
       "0                                 keh ke ye sach hai  0\n",
       "1  ch air koi acha sa song apki pasand ka laga ka...  0\n",
       "2  tum log pappu mat bano kyunki sonia aur pawar ...  1\n",
       "3  neither bhadwaa tantra rather madarjaat loug s...  1\n",
       "4  bhok ku rha ha kutte k pille chal phut yaha se...  1"
      ]
     },
     "execution_count": 22,
     "metadata": {},
     "output_type": "execute_result"
    }
   ],
   "source": [
    "train.head()"
   ]
  },
  {
   "cell_type": "code",
   "execution_count": 23,
   "metadata": {},
   "outputs": [
    {
     "name": "stdout",
     "output_type": "stream",
     "text": [
      "                                                   0  \\\n",
      "0                                 keh ke ye sach hai   \n",
      "1  ch air koi acha sa song apki pasand ka laga ka...   \n",
      "2  tum log pappu mat bano kyunki sonia aur pawar ...   \n",
      "3  neither bhadwaa tantra rather madarjaat loug s...   \n",
      "4  bhok ku rha ha kutte k pille chal phut yaha se...   \n",
      "\n",
      "                                                   1  \n",
      "0                      __label__0 keh ke ye sach hai  \n",
      "1  __label__0 ch air koi acha sa song apki pasand...  \n",
      "2  __label__1 tum log pappu mat bano kyunki sonia...  \n",
      "3  __label__1 neither bhadwaa tantra rather madar...  \n",
      "4  __label__1 bhok ku rha ha kutte k pille chal p...  \n"
     ]
    }
   ],
   "source": [
    "train[1] = '__label__' + train[1].astype(str)\n",
    "train[1] = train[1] + ' ' + train[0]"
   ]
  },
  {
   "cell_type": "code",
   "execution_count": 24,
   "metadata": {},
   "outputs": [
    {
     "data": {
      "text/html": [
       "<div>\n",
       "<style scoped>\n",
       "    .dataframe tbody tr th:only-of-type {\n",
       "        vertical-align: middle;\n",
       "    }\n",
       "\n",
       "    .dataframe tbody tr th {\n",
       "        vertical-align: top;\n",
       "    }\n",
       "\n",
       "    .dataframe thead th {\n",
       "        text-align: right;\n",
       "    }\n",
       "</style>\n",
       "<table border=\"1\" class=\"dataframe\">\n",
       "  <thead>\n",
       "    <tr style=\"text-align: right;\">\n",
       "      <th></th>\n",
       "      <th>0</th>\n",
       "      <th>1</th>\n",
       "    </tr>\n",
       "  </thead>\n",
       "  <tbody>\n",
       "    <tr>\n",
       "      <th>0</th>\n",
       "      <td>keh ke ye sach hai</td>\n",
       "      <td>__label__0 keh ke ye sach hai</td>\n",
       "    </tr>\n",
       "    <tr>\n",
       "      <th>1</th>\n",
       "      <td>ch air koi acha sa song apki pasand ka laga ka...</td>\n",
       "      <td>__label__0 ch air koi acha sa song apki pasand...</td>\n",
       "    </tr>\n",
       "    <tr>\n",
       "      <th>2</th>\n",
       "      <td>tum log pappu mat bano kyunki sonia aur pawar ...</td>\n",
       "      <td>__label__1 tum log pappu mat bano kyunki sonia...</td>\n",
       "    </tr>\n",
       "    <tr>\n",
       "      <th>3</th>\n",
       "      <td>neither bhadwaa tantra rather madarjaat loug s...</td>\n",
       "      <td>__label__1 neither bhadwaa tantra rather madar...</td>\n",
       "    </tr>\n",
       "    <tr>\n",
       "      <th>4</th>\n",
       "      <td>bhok ku rha ha kutte k pille chal phut yaha se...</td>\n",
       "      <td>__label__1 bhok ku rha ha kutte k pille chal p...</td>\n",
       "    </tr>\n",
       "  </tbody>\n",
       "</table>\n",
       "</div>"
      ],
      "text/plain": [
       "                                                   0  \\\n",
       "0                                 keh ke ye sach hai   \n",
       "1  ch air koi acha sa song apki pasand ka laga ka...   \n",
       "2  tum log pappu mat bano kyunki sonia aur pawar ...   \n",
       "3  neither bhadwaa tantra rather madarjaat loug s...   \n",
       "4  bhok ku rha ha kutte k pille chal phut yaha se...   \n",
       "\n",
       "                                                   1  \n",
       "0                      __label__0 keh ke ye sach hai  \n",
       "1  __label__0 ch air koi acha sa song apki pasand...  \n",
       "2  __label__1 tum log pappu mat bano kyunki sonia...  \n",
       "3  __label__1 neither bhadwaa tantra rather madar...  \n",
       "4  __label__1 bhok ku rha ha kutte k pille chal p...  "
      ]
     },
     "execution_count": 24,
     "metadata": {},
     "output_type": "execute_result"
    }
   ],
   "source": [
    "train.head()"
   ]
  },
  {
   "cell_type": "code",
   "execution_count": 26,
   "metadata": {},
   "outputs": [
    {
     "data": {
      "text/html": [
       "<div>\n",
       "<style scoped>\n",
       "    .dataframe tbody tr th:only-of-type {\n",
       "        vertical-align: middle;\n",
       "    }\n",
       "\n",
       "    .dataframe tbody tr th {\n",
       "        vertical-align: top;\n",
       "    }\n",
       "\n",
       "    .dataframe thead th {\n",
       "        text-align: right;\n",
       "    }\n",
       "</style>\n",
       "<table border=\"1\" class=\"dataframe\">\n",
       "  <thead>\n",
       "    <tr style=\"text-align: right;\">\n",
       "      <th></th>\n",
       "      <th>1</th>\n",
       "    </tr>\n",
       "  </thead>\n",
       "  <tbody>\n",
       "    <tr>\n",
       "      <th>0</th>\n",
       "      <td>__label__0 keh ke ye sach hai</td>\n",
       "    </tr>\n",
       "    <tr>\n",
       "      <th>1</th>\n",
       "      <td>__label__0 ch air koi acha sa song apki pasand...</td>\n",
       "    </tr>\n",
       "    <tr>\n",
       "      <th>2</th>\n",
       "      <td>__label__1 tum log pappu mat bano kyunki sonia...</td>\n",
       "    </tr>\n",
       "    <tr>\n",
       "      <th>3</th>\n",
       "      <td>__label__1 neither bhadwaa tantra rather madar...</td>\n",
       "    </tr>\n",
       "    <tr>\n",
       "      <th>4</th>\n",
       "      <td>__label__1 bhok ku rha ha kutte k pille chal p...</td>\n",
       "    </tr>\n",
       "  </tbody>\n",
       "</table>\n",
       "</div>"
      ],
      "text/plain": [
       "                                                   1\n",
       "0                      __label__0 keh ke ye sach hai\n",
       "1  __label__0 ch air koi acha sa song apki pasand...\n",
       "2  __label__1 tum log pappu mat bano kyunki sonia...\n",
       "3  __label__1 neither bhadwaa tantra rather madar...\n",
       "4  __label__1 bhok ku rha ha kutte k pille chal p..."
      ]
     },
     "execution_count": 26,
     "metadata": {},
     "output_type": "execute_result"
    }
   ],
   "source": [
    "train = train[[1]]\n",
    "train.head()"
   ]
  },
  {
   "cell_type": "code",
   "execution_count": 27,
   "metadata": {},
   "outputs": [],
   "source": [
    "import csv"
   ]
  },
  {
   "cell_type": "code",
   "execution_count": 28,
   "metadata": {},
   "outputs": [],
   "source": [
    "train.to_csv('train.txt', \n",
    "             index = False, \n",
    "             sep = ' ',\n",
    "             header = None, \n",
    "             quoting = csv.QUOTE_NONE, \n",
    "             quotechar = \"\", \n",
    "             escapechar = \" \")"
   ]
  },
  {
   "cell_type": "code",
   "execution_count": 29,
   "metadata": {},
   "outputs": [],
   "source": [
    "model = fasttext.train_supervised('train.txt')"
   ]
  },
  {
   "cell_type": "code",
   "execution_count": 30,
   "metadata": {},
   "outputs": [],
   "source": [
    "model.save_model(\"profanity_model_urdu.bin\")"
   ]
  },
  {
   "cell_type": "markdown",
   "metadata": {},
   "source": [
    "# Testing"
   ]
  },
  {
   "cell_type": "code",
   "execution_count": 1,
   "metadata": {},
   "outputs": [],
   "source": [
    "import pandas as pd\n",
    "import numpy as np\n",
    "import fasttext\n",
    "import re\n",
    "import nltk\n",
    "from nltk.tokenize.toktok import ToktokTokenizer\n",
    "from nltk.corpus import stopwords\n",
    "from nltk.stem import WordNetLemmatizer \n",
    "import unicodedata\n",
    "from emoji import demojize"
   ]
  },
  {
   "cell_type": "code",
   "execution_count": 2,
   "metadata": {},
   "outputs": [
    {
     "name": "stderr",
     "output_type": "stream",
     "text": [
      "[nltk_data] Downloading package stopwords to\n",
      "[nltk_data]     C:\\Users\\CC\\AppData\\Roaming\\nltk_data...\n",
      "[nltk_data]   Package stopwords is already up-to-date!\n"
     ]
    }
   ],
   "source": [
    "nltk.download('stopwords')\n",
    "stop_words = set(stopwords.words('english'))\n",
    "lemmatizer = nltk.stem.WordNetLemmatizer()"
   ]
  },
  {
   "cell_type": "code",
   "execution_count": 3,
   "metadata": {},
   "outputs": [],
   "source": [
    "def text_cleaning(text_data):\n",
    "\n",
    "  # Remove accented characters\n",
    "  text_data = unicodedata.normalize('NFKD', text_data).encode('ascii', 'ignore').decode('utf-8', 'ignore')\n",
    "\n",
    "  # Case conversion\n",
    "  text_data = text_data.lower()\n",
    "\n",
    "  # Demojize\n",
    "  text_data = demojize(text_data)\n",
    "\n",
    "  # Reducing repeated punctuations\n",
    "  pattern_punct = re.compile(r'([.,/#!$%^&*?;:{}=_`~()+-])\\1{1,}')\n",
    "  text_data = pattern_punct.sub(r'\\1', text_data)\n",
    "  \n",
    "  # Prevent redundant replacements of single-space with single-space\n",
    "  text_data = re.sub(' {2,}',' ', text_data)\n",
    "  \n",
    "  # Remove special characters\n",
    "  text_data = re.sub(r\"[^a-zA-Z?!]+\", ' ', text_data)\n",
    "\n",
    "  # Converting text to strings\n",
    "  text_data = str(text_data)\n",
    "\n",
    "  # Tokenization\n",
    "  tokenizer = ToktokTokenizer()\n",
    "  text_data = tokenizer.tokenize(text_data)\n",
    "\n",
    "  # Removing stopwords\n",
    "  text_data = [item for item in text_data if item not in stop_words]\n",
    "  \n",
    "  # Lemmatization\n",
    "  text_data = [lemmatizer.lemmatize(word = w, pos = 'v') for w in text_data]\n",
    "  \n",
    "  # Convert list of tokens to string data type\n",
    "  text_data = ' '.join (text_data)\n",
    "\n",
    "  return text_data"
   ]
  },
  {
   "cell_type": "code",
   "execution_count": 4,
   "metadata": {},
   "outputs": [],
   "source": [
    "model = fasttext.load_model('profanity_model_urdu.bin')"
   ]
  },
  {
   "cell_type": "code",
   "execution_count": 5,
   "metadata": {},
   "outputs": [
    {
     "name": "stderr",
     "output_type": "stream",
     "text": [
      "[nltk_data] Downloading package wordnet to\n",
      "[nltk_data]     C:\\Users\\CC\\AppData\\Roaming\\nltk_data...\n",
      "[nltk_data]   Package wordnet is already up-to-date!\n"
     ]
    },
    {
     "data": {
      "text/plain": [
       "True"
      ]
     },
     "execution_count": 5,
     "metadata": {},
     "output_type": "execute_result"
    }
   ],
   "source": [
    "nltk.download('wordnet')"
   ]
  },
  {
   "cell_type": "code",
   "execution_count": 6,
   "metadata": {},
   "outputs": [
    {
     "name": "stdout",
     "output_type": "stream",
     "text": [
      "\n",
      "Input: aur bhai, kia haal chaal hein?\n",
      "Clean: 94.1%\n",
      "Profane: 5.9%\n",
      "\n",
      "Input: mein theek, aap sunao\n",
      "Clean: 100.0%\n",
      "Profane: 0.0%\n",
      "\n",
      "Input: logicose ko ek software engineer chahiye\n",
      "Profane: 50.0%\n",
      "Clean: 50.0%\n",
      "\n",
      "Input: ek sales asociate bhi\n",
      "Clean: 93.4%\n",
      "Profane: 6.6%\n",
      "\n",
      "Input: stop\n",
      "Clean: 98.6%\n",
      "Profane: 1.4%\n"
     ]
    }
   ],
   "source": [
    "user_input = \"\"\n",
    "while user_input != \"stop\":\n",
    "    user_input = input(\"Enter something: \")\n",
    "    print(\"\\nInput:\", user_input)\n",
    "    user_input = text_cleaning(user_input)\n",
    "\n",
    "    labels, probabilities = model.predict(user_input, k=2)\n",
    "\n",
    "    for label, probability in zip(labels, probabilities):\n",
    "        if label[9:] == \"1\":\n",
    "            print(f'Profane: {round(probability*100, 1)}%')\n",
    "        else:\n",
    "            print(f'Clean: {round(probability*100, 1)}%')"
   ]
  }
 ],
 "metadata": {
  "kernelspec": {
   "display_name": "Python 3",
   "language": "python",
   "name": "python3"
  },
  "language_info": {
   "codemirror_mode": {
    "name": "ipython",
    "version": 3
   },
   "file_extension": ".py",
   "mimetype": "text/x-python",
   "name": "python",
   "nbconvert_exporter": "python",
   "pygments_lexer": "ipython3",
   "version": "3.11.4"
  }
 },
 "nbformat": 4,
 "nbformat_minor": 2
}
