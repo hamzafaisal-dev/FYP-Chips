{
 "cells": [
  {
   "cell_type": "markdown",
   "metadata": {},
   "source": [
    "Importing Libraries and Glove 6b model"
   ]
  },
  {
   "cell_type": "code",
   "execution_count": 1,
   "metadata": {},
   "outputs": [],
   "source": [
    "import torch\n",
    "import tensorflow as tf\n",
    "from torchtext.vocab import GloVe\n",
    "\n",
    "embedding_dim = 100\n",
    "\n",
    "glove = GloVe(name='6B', dim=embedding_dim)"
   ]
  },
  {
   "cell_type": "markdown",
   "metadata": {},
   "source": [
    "Loading Profane Words Dataset"
   ]
  },
  {
   "cell_type": "code",
   "execution_count": 2,
   "metadata": {},
   "outputs": [],
   "source": [
    "import pandas as pd\n",
    "df = pd.read_csv(\"Profane Words Dataset.csv\")\n",
    "profane_words = df[\"words\"].tolist()"
   ]
  },
  {
   "cell_type": "code",
   "execution_count": 3,
   "metadata": {},
   "outputs": [],
   "source": [
    "embeddings = []\n",
    "df2 = pd.DataFrame()"
   ]
  },
  {
   "cell_type": "markdown",
   "metadata": {},
   "source": [
    "Methods to check profanity"
   ]
  },
  {
   "cell_type": "code",
   "execution_count": 4,
   "metadata": {},
   "outputs": [],
   "source": [
    "def check_embedding(text):\n",
    "    if tf.norm(glove[text] - glove[\"omaga\"]) == 0:\n",
    "        return False\n",
    "    else:\n",
    "        return True\n",
    "    \n",
    "def calculate_score(distance):\n",
    "    return ((embedding_dim * 2) - distance)/2\n",
    "\n",
    "def check_profanity(text):\n",
    "    text = text.lower()\n",
    "    text = text.split()\n",
    "    for i in range(len(text)):\n",
    "        distance = 200\n",
    "        for j in range(len(embeddings)):\n",
    "            temp_embedding = glove[text[i]]\n",
    "            if tf.norm(temp_embedding - embeddings[j]) <= 4 and check_embedding(text[i]):\n",
    "                print(f\"{text[i]} is profane score:{calculate_score(tf.norm(temp_embedding - embeddings[j]))}\")\n",
    "                break\n",
    "            '''\n",
    "            if check_embedding(text[i]) and tf.norm(temp_embedding - embeddings[j]) <= distance:\n",
    "                distance = tf.norm(temp_embedding - embeddings[j])\n",
    "            if j == len(embeddings) - 1:\n",
    "                print(f\"{text[i]} is profane score:{calculate_score(distance)}\")\n",
    "                '''\n"
   ]
  },
  {
   "cell_type": "markdown",
   "metadata": {},
   "source": [
    "Turn Profane Words into Embeddings"
   ]
  },
  {
   "cell_type": "code",
   "execution_count": 5,
   "metadata": {},
   "outputs": [],
   "source": [
    "for i in range(len(profane_words)):\n",
    "    if check_embedding(profane_words[i]):\n",
    "        embeddings.append(glove[profane_words[i]])"
   ]
  },
  {
   "cell_type": "markdown",
   "metadata": {},
   "source": [
    "Test"
   ]
  },
  {
   "cell_type": "code",
   "execution_count": 6,
   "metadata": {},
   "outputs": [
    {
     "name": "stdout",
     "output_type": "stream",
     "text": [
      "fucking is profane score:98.13491821289062\n",
      "bastard is profane score:100.0\n"
     ]
    }
   ],
   "source": [
    "check_profanity(\"Malphite you are a fucking worthless brainded scumfuck bastard pile of trash mental dickface that should be gunned down in the street like the degenerate you are\")"
   ]
  },
  {
   "cell_type": "code",
   "execution_count": 7,
   "metadata": {},
   "outputs": [],
   "source": [
    "check_profanity(\"my name is hassan\")"
   ]
  },
  {
   "cell_type": "code",
   "execution_count": 8,
   "metadata": {},
   "outputs": [
    {
     "name": "stdout",
     "output_type": "stream",
     "text": [
      "fagot is profane score:98.60266876220703\n"
     ]
    }
   ],
   "source": [
    "check_profanity(\"nigar fagot\")"
   ]
  },
  {
   "cell_type": "code",
   "execution_count": 9,
   "metadata": {},
   "outputs": [],
   "source": [
    "check_profanity(\"big monkey balls\")"
   ]
  },
  {
   "cell_type": "code",
   "execution_count": 10,
   "metadata": {},
   "outputs": [
    {
     "name": "stdout",
     "output_type": "stream",
     "text": [
      "dick is profane score:100.0\n"
     ]
    }
   ],
   "source": [
    "check_profanity(\"jason todd tim drake dick grayson\")"
   ]
  },
  {
   "cell_type": "code",
   "execution_count": 11,
   "metadata": {},
   "outputs": [
    {
     "name": "stdout",
     "output_type": "stream",
     "text": [
      "rapidly-growing is profane score:98.26806640625\n"
     ]
    }
   ],
   "source": [
    "check_profanity(\"A rapidly-growing well-established company that is on a mission to revolutionize the FinTech industry and online trading markets with their innovative solutions, is looking for a Data Analyst. The selected candidate will be working closely with the business teams to comprehend the needs of the business and then communicate those needs to the data team for fulfillment through data analysis and report generation. The company is developing an intuitive digital trading platform that enables investors to explore new markets, keep track of their investments, and seamlessly trade. This is an amazing opportunity for candidates who enjoy tackling challenging problems and working in a dynamic environment.\")"
   ]
  },
  {
   "cell_type": "code",
   "execution_count": 12,
   "metadata": {},
   "outputs": [],
   "source": [
    "check_profanity(\"nigar\")"
   ]
  },
  {
   "cell_type": "code",
   "execution_count": 13,
   "metadata": {},
   "outputs": [],
   "source": [
    "check_profanity(\"Are you passionate about software development and seeking a remarkable opportunity to gain hands-on experience while working with a prestigious Management Consulting firm? TalentKompass Deutschland, a top Human Resources company based in Germany, is searching for a motivated Python Developer Intern to join our esteemed client. This remote position presents a fantastic opportunity for someone who is eager to learn and grow in a dynamic and fast-paced environment.As a Python Developer Intern, you will work closely with the software development and consulting teams, where you will be responsible for a variety of tasks, including software design, development, and debugging. You will have the unique chance to learn from experienced professionals who will provide mentorship and guidance throughout the internship. With this opportunity, you will gain valuable experience in software development, data analysis, and teamwork – all essential skills for a successful career in this field.\")"
   ]
  },
  {
   "cell_type": "markdown",
   "metadata": {},
   "source": [
    "do not run this shit"
   ]
  },
  {
   "cell_type": "code",
   "execution_count": null,
   "metadata": {},
   "outputs": [],
   "source": [
    "import openpyxl\n",
    "\n",
    "# Open the text file for reading with UTF-8 encoding\n",
    "with open('.vector_cache/glove.6B.100d.txt', 'r', encoding='utf-8') as file:\n",
    "    lines = file.readlines()\n",
    "\n",
    "# Create a new Excel workbook\n",
    "workbook = openpyxl.Workbook()\n",
    "worksheet = workbook.active\n",
    "\n",
    "# Iterate through the lines of the text file and save the first string in Excel cells\n",
    "for row_index, line in enumerate(lines, start=1):\n",
    "    # Split the line into words\n",
    "    words = line.strip().split()\n",
    "    if words:\n",
    "        first_word = words[0]\n",
    "        worksheet.cell(row=row_index, column=1, value=first_word)\n",
    "\n",
    "# Save the Excel workbook to a file\n",
    "workbook.save('output.xlsx')"
   ]
  }
 ],
 "metadata": {
  "kernelspec": {
   "display_name": "Python 3",
   "language": "python",
   "name": "python3"
  },
  "language_info": {
   "codemirror_mode": {
    "name": "ipython",
    "version": 3
   },
   "file_extension": ".py",
   "mimetype": "text/x-python",
   "name": "python",
   "nbconvert_exporter": "python",
   "pygments_lexer": "ipython3",
   "version": "3.11.4"
  },
  "orig_nbformat": 4
 },
 "nbformat": 4,
 "nbformat_minor": 2
}
