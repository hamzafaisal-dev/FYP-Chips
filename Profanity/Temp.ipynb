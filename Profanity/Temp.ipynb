{
 "cells": [
  {
   "cell_type": "code",
   "execution_count": 8,
   "metadata": {},
   "outputs": [],
   "source": [
    "import pandas as pd\n",
    "import re"
   ]
  },
  {
   "cell_type": "code",
   "execution_count": 2,
   "metadata": {},
   "outputs": [],
   "source": [
    "df = pd.read_csv(\"Chips_Indeed_Data.csv\")"
   ]
  },
  {
   "cell_type": "code",
   "execution_count": 14,
   "metadata": {},
   "outputs": [],
   "source": [
    "description = df[['Description']]"
   ]
  },
  {
   "cell_type": "code",
   "execution_count": 15,
   "metadata": {},
   "outputs": [
    {
     "data": {
      "text/html": [
       "<div>\n",
       "<style scoped>\n",
       "    .dataframe tbody tr th:only-of-type {\n",
       "        vertical-align: middle;\n",
       "    }\n",
       "\n",
       "    .dataframe tbody tr th {\n",
       "        vertical-align: top;\n",
       "    }\n",
       "\n",
       "    .dataframe thead th {\n",
       "        text-align: right;\n",
       "    }\n",
       "</style>\n",
       "<table border=\"1\" class=\"dataframe\">\n",
       "  <thead>\n",
       "    <tr style=\"text-align: right;\">\n",
       "      <th></th>\n",
       "      <th>Description</th>\n",
       "    </tr>\n",
       "  </thead>\n",
       "  <tbody>\n",
       "    <tr>\n",
       "      <th>0</th>\n",
       "      <td>Job Summary: Seeking a skilled and motivated D...</td>\n",
       "    </tr>\n",
       "    <tr>\n",
       "      <th>1</th>\n",
       "      <td>WE’RE HIRING Freelance Information Technology....</td>\n",
       "    </tr>\n",
       "    <tr>\n",
       "      <th>2</th>\n",
       "      <td>Key Responsibilities: Qualification Job Type: ...</td>\n",
       "    </tr>\n",
       "    <tr>\n",
       "      <th>3</th>\n",
       "      <td>looking for Male IT IT Duties and Responsibili...</td>\n",
       "    </tr>\n",
       "    <tr>\n",
       "      <th>4</th>\n",
       "      <td>Job Location: Brookes Chowrangi (Godaam Chowra...</td>\n",
       "    </tr>\n",
       "    <tr>\n",
       "      <th>...</th>\n",
       "      <td>...</td>\n",
       "    </tr>\n",
       "    <tr>\n",
       "      <th>371</th>\n",
       "      <td>Key Responsibilities: · Developing &amp; maintaini...</td>\n",
       "    </tr>\n",
       "    <tr>\n",
       "      <th>372</th>\n",
       "      <td>Job Description: Requirements</td>\n",
       "    </tr>\n",
       "    <tr>\n",
       "      <th>373</th>\n",
       "      <td>Job Description: Requirements Benefits</td>\n",
       "    </tr>\n",
       "    <tr>\n",
       "      <th>374</th>\n",
       "      <td>Job Summary: Do you enjoy creating and develop...</td>\n",
       "    </tr>\n",
       "    <tr>\n",
       "      <th>375</th>\n",
       "      <td>Job Description: Requirements Benefits</td>\n",
       "    </tr>\n",
       "  </tbody>\n",
       "</table>\n",
       "<p>376 rows × 1 columns</p>\n",
       "</div>"
      ],
      "text/plain": [
       "                                           Description\n",
       "0    Job Summary: Seeking a skilled and motivated D...\n",
       "1    WE’RE HIRING Freelance Information Technology....\n",
       "2    Key Responsibilities: Qualification Job Type: ...\n",
       "3    looking for Male IT IT Duties and Responsibili...\n",
       "4    Job Location: Brookes Chowrangi (Godaam Chowra...\n",
       "..                                                 ...\n",
       "371  Key Responsibilities: · Developing & maintaini...\n",
       "372                     Job Description: Requirements \n",
       "373            Job Description: Requirements Benefits \n",
       "374  Job Summary: Do you enjoy creating and develop...\n",
       "375            Job Description: Requirements Benefits \n",
       "\n",
       "[376 rows x 1 columns]"
      ]
     },
     "execution_count": 15,
     "metadata": {},
     "output_type": "execute_result"
    }
   ],
   "source": [
    "description"
   ]
  },
  {
   "cell_type": "code",
   "execution_count": 44,
   "metadata": {},
   "outputs": [
    {
     "name": "stdout",
     "output_type": "stream",
     "text": [
      "['Description', 'Job', 'Summary', 'Seeking', 'a', 'skilled', 'and', 'motivated', 'D', 'Name', '0', 'dtype', 'object', 'Description', 'WE’RE', 'HIRING', 'Freelance', 'Information', 'Technology', 'Name', '1', 'dtype', 'object', 'Description', 'Key', 'Responsibilities', 'Qualification', 'Job', 'Type', 'Name', '2', 'dtype', 'object', 'Description', 'looking', 'for', 'Male', 'IT', 'IT', 'Duties', 'and', 'Responsibili', 'Name', '3', 'dtype', 'object', 'Description', 'Job', 'Location', 'Brookes', 'Chowrangi', 'Godaam', 'Chowra', 'Name', '4', 'dtype', 'object', 'Description', 'We', 'are', 'looking', 'for', 'a', 'passionate', 'Data', 'Analyst', 'Name', '5', 'dtype', 'object', 'Description', 'We', 'are', 'seeking', 'a', 'talented', 'Data', 'Analyst', 'to', 'jo', 'Name', '6', 'dtype', 'object', 'Description', 'Job', 'description', 'Requirements', 'Technical', 'experti', 'Name', '7', 'dtype', 'object', 'Description', 'Cooperative', 'Computing', 'CC', 'We', 'accelerate', 'gro', 'Name', '8', 'dtype', 'object', 'Description', 'Key', 'Responsibilities', 'Education', 'Experience', 'S', 'Name', '9', 'dtype', 'object', 'Description', 'We', 'are', 'looking', 'for', 'a', 'Data', 'Entry', 'Operator', 'who', 'h', 'Name', '10', 'dtype', 'object', 'Description', 'Urgently', 'Looking', 'for', 'IT', 'Manager', 'Responsibilit', 'Name', '11', 'dtype', 'object', 'Description', 'Candidates', 'who', 'are', 'living', 'near', 'Nazimabad', 'get', 'p', 'Name', '12', 'dtype', 'object', 'Description', 'As', 'a', 'Business', 'Intelligence', 'Analyst', 'you', 'will', 'p', 'Name', '13', 'dtype', 'object', 'Description', 'Responsible', 'for', 'the', 'maintenance', 'configuration', 'Name', '14', 'dtype', 'object', 'Description', 'IT', 'Intern', 'Duties', 'and', 'Responsibilities', 'Requirem', 'Name', '15', 'dtype', 'object', 'Description', 'Personal', 'Assistant', 'with', 'excellent', 'computing', 'ba', 'Name', '16', 'dtype', 'object', 'Description', 'Aykays', 'is', 'looking', 'for', 'a', 'fresh', 'candidates', 'prefe', 'Name', '17', 'dtype', 'object', 'Description', 'Job', 'Purpose', 'To', 'work', 'on', 'Tablet', 'Blister', 'Tablet', 'Name', '18', 'dtype', 'object', 'Description', 'Location', 'You', 'will', 'work', 'in', 'our', 'Karachi', 'office', 'Name', '19', 'dtype', 'object', 'Description', 'Job', 'Purpose', 'Implement', 'EHS', 'programs', 'based', 'on', 'Name', '20', 'dtype', 'object', 'Description', 'Job', 'Grade', 'Reporting', 'To', 'Program', 'Employment', 'Type', 'Name', '21', 'dtype', 'object', 'Description', 'NCR', 'CET', 'College', 'a', 'renowned', 'educational', 'instit', 'Name', '22', 'dtype', 'object', 'Description', 'Company', 'Overview', 'We', 'are', 'seeking', 'a', 'highly', 'skil', 'Name', '23', 'dtype', 'object', 'Description', 'About', 'Us', 'DgTx', 'Private', 'Limited', 'is', 'a', 'DgTx', 'Emp', 'Name', '24', 'dtype', 'object', 'Description', 'Job', 'Purpose', 'To', 'ensure', 'in', 'process', 'monitoring', 'Name', '25', 'dtype', 'object', 'Description', 'Data', 'Anaylst', 'ManagerMIS', 'Business', 'Intelligenc', 'Name', '26', 'dtype', 'object', 'Description', 'Unity', 'Foods', 'Limited', 'is', 'one', 'of', 'the', 'leading', 'FMCG', 'Name', '27', 'dtype', 'object', 'Description', 'NaN', 'Name', '28', 'dtype', 'object', 'Description', 'About', 'Us', 'We', 'are', 'a', 'research', 'organization', 'deali', 'Name', '29', 'dtype', 'object', 'Description', 'We', 'are', 'looking', 'for', 'a', 'Laravel', 'Developer', 'with', 'mi', 'Name', '30', 'dtype', 'object', 'Description', 'Line', 'of', 'Service', 'Industry', 'Sector', 'Specialism', 'Name', '31', 'dtype', 'object', 'Description', 'We', 'are', 'looking', 'for', 'a', 'highly', 'skilled', 'Full', 'stack', 'Name', '32', 'dtype', 'object', 'Description', 'We', 'are', 'looking', 'for', 'a', 'highly', 'capable', 'machine', 'le', 'Name', '33', 'dtype', 'object', 'Description', 'Hazza', 'Institute', 'of', 'Technology', 'Location', 'Karach', 'Name', '34', 'dtype', 'object', 'Description', 'We', 'are', 'looking', 'for', 'a', 'highly', 'capable', 'machine', 'le', 'Name', '35', 'dtype', 'object', 'Description', 'Are', 'you', 'ready', 'to', 'revolutionize', 'technology', 'and', 'Name', '36', 'dtype', 'object', 'Description', 'Shah', 'Tutor', 'Academy', 'Tuition', 'update', '1)BA', 'Part', '1F', 'Name', '37', 'dtype', 'object', 'Description', 'Job', 'Description', 'As', 'a', 'Web', 'Scraper', 'Engineer', 'at', 'Name', '38', 'dtype', 'object', 'Description', 'Responsibilities', 'Requirements', 'Duration', 'This', 'Name', '39', 'dtype', 'object', 'Description', 'The', 'Kidney', 'Centre', 'Post', 'Graduate', 'Training', 'Insti', 'Name', '40', 'dtype', 'object', 'Description', 'JOB', 'ADVERTISEMENT', 'Aziz', 'Tabba', 'Foundation', 'is', 'con', 'Name', '41', 'dtype', 'object', 'Description', 'NaN', 'Name', '42', 'dtype', 'object', 'Description', 'Responsibilities', 'Requirements', 'Name', '43', 'dtype', 'object', 'Description', 'Test', 'Engineer', 'The', 'Role', 'We', 'are', 'seeking', 'a', 'Softwa', 'Name', '44', 'dtype', 'object', 'Description', 'HRSG', 'Innovative', 'Business', 'Solutionsis', 'current', 'Name', '45', 'dtype', 'object', 'Description', 'LN', 'Technologies', 'is', 'an', 'Enterprise', 'App', 'Developme', 'Name', '46', 'dtype', 'object', 'Description', 'Program', 'Job', 'Grade', 'Reporting', 'To', 'Employment', 'Type', 'Name', '47', 'dtype', 'object', 'Description', 'About', 'us', 'We', 'are', 'professional', 'and', 'agile', 'Our', 'wo', 'Name', '48', 'dtype', 'object', 'Description', 'NaN', 'Name', '49', 'dtype', 'object', 'Description', 'Edvise', 'Hub', 'is', 'looking', 'for', 'an', 'IT', 'Executive', 'resp', 'Name', '50', 'dtype', 'object', 'Description', 'Shah', 'Tutor', 'Academy', 'Male', 'Female', 'individual', 'educ', 'Name', '51', 'dtype', 'object', 'Description', 'North', 'American', 'Health', 'care', 'customer', 'is', 'looking', 'Name', '52', 'dtype', 'object', 'Description', 'Responsibilities', 'Ensure', 'data', 'and', 'documentat', 'Name', '53', 'dtype', 'object', 'Description', 'Program', 'Job', 'Grade', 'Reporting', 'To', 'Employment', 'Type', 'Name', '54', 'dtype', 'object', 'Description', 'Job', 'Summary', 'On', 'behalf', 'of', 'Jamal', 'Noor', 'Hospital', 'Name', '55', 'dtype', 'object', 'Description', 'Crescent', 'Steel', 'and', 'Allied', 'Products', 'Limited', 'is', 'Name', '56', 'dtype', 'object', 'Description', 'Job', 'Summary', 'Become', 'a', 'valuable', 'member', 'of', 'our', 'Name', '57', 'dtype', 'object', 'Description', 'As', 'a', 'Junior', 'Software', 'Developer', 'at', 'Barcode', 'Paki', 'Name', '58', 'dtype', 'object', 'Description', 'Job', 'Description', 'We', 'are', 'seeking', 'a', 'highly', 'skill', 'Name', '59', 'dtype', 'object', 'Description', 'Test', 'Engineer', 'The', 'Role', 'We', 'are', 'seeking', 'a', 'Softwa', 'Name', '60', 'dtype', 'object', 'Description', 'GFS', 'Builders', 'and', 'Developers', 'has', 'an', 'exciting', 'op', 'Name', '61', 'dtype', 'object', 'Description', 'Position', 'Summary', 'This', 'role', 'will', 'be', 'responsi', 'Name', '62', 'dtype', 'object', 'Description', 'As', 'our', 'business', 'grows', 'we', 'are', 'looking', 'to', 'furth', 'Name', '63', 'dtype', 'object', 'Description', 'Job', 'Title', 'Product', 'Researcher', 'About', 'Amazon', 'Am', 'Name', '64', 'dtype', 'object', 'Description', 'Job', 'Purpose', 'This', 'role', 'provides', 'effective', 'ris', 'Name', '65', 'dtype', 'object', 'Description', 'NaN', 'Name', '66', 'dtype', 'object', 'Description', 'Being', 'a', 'Microsoft', 'Gold', 'Partner', 'we', '’re', 'committ', 'Name', '67', 'dtype', 'object', 'Description', 'As', 'our', 'business', 'grows', 'we', 'are', 'looking', 'to', 'furth', 'Name', '68', 'dtype', 'object', 'Description', 'Job', 'Summary', 'We', 'are', 'seeking', 'a', 'highly', 'skilled', 'Name', '69', 'dtype', 'object', 'Description', 'Who', 'we', 'are', 'Cooperative', 'Computing', 'C|C', 'is', 'a', 'di', 'Name', '70', 'dtype', 'object', 'Description', 'North', 'American', 'Health', 'care', 'customer', 'is', 'looking', 'Name', '71', 'dtype', 'object', 'Description', 'More', 'about', 'Mindshare', 'We', 'were', 'born', 'in', 'Asia', 'in', 'Name', '72', 'dtype', 'object', 'Description', 'Responsibilities', 'Requirements', 'Job', 'Type', 'Temp', 'Name', '73', 'dtype', 'object', 'Description', 'NaN', 'Name', '74', 'dtype', 'object', 'Description', 'Job', 'Description', 'We', 'are', 'looking', 'for', 'a', 'talented', 'Name', '75', 'dtype', 'object', 'Description', 'Job', 'Title', 'SQL', 'DeveloperLocation', 'KorangiExper', 'Name', '76', 'dtype', 'object', 'Description', 'Head', 'IT', 'Infrastructure', 'Our', 'Client', 'a', 'reputed', 'Name', '77', 'dtype', 'object', 'Description', 'GENERAL', 'FUNCTION', 'System', 'engineers', 'provide', 'sup', 'Name', '78', 'dtype', 'object', 'Description', 'NaN', 'Name', '79', 'dtype', 'object', 'Description', 'Job', 'Purpose', 'The', 'CCC', 'analyst', 'job', 'purpose', 'is', 't', 'Name', '80', 'dtype', 'object', 'Description', 'GFS', 'Builders', 'and', 'Developers', 'has', 'an', 'exciting', 'op', 'Name', '81', 'dtype', 'object', 'Description', 'At', 'ONE', 'Technology', 'Services', 'we', 'are', 'seeking', 'a', 't', 'Name', '82', 'dtype', 'object', 'Description', 'RESPONSIBILITIES', 'REQUIREMENTS', 'Location', 'Kara', 'Name', '83', 'dtype', 'object', 'Description', 'Education:-', 'Bachelor', \"'s\", 'degree', 'in', 'Computer', 'Scie', 'Name', '84', 'dtype', 'object', 'Description', 'The', 'Cyber', 'Infrastructure', 'Security', 'Specialist', 'Name', '85', 'dtype', 'object', 'Description', 'Job', 'Description', 'for', 'Senior', 'Data', 'Analyst', 'Job', 'De', 'Name', '86', 'dtype', 'object', 'Description', 'Data', 'Quality', 'Manager', 'Job', 'is', 'available', 'in', 'Karac', 'Name', '87', 'dtype', 'object', 'Description', 'NaN', 'Name', '88', 'dtype', 'object', 'Description', 'NaN', 'Name', '89', 'dtype', 'object', 'Description', 'NaN', 'Name', '90', 'dtype', 'object', 'Description', 'Jr.', 'BI', 'Analyst', 'Job', 'description', 'Collaborate', 'Name', '91', 'dtype', 'object', 'Description', 'NaN', 'Name', '92', 'dtype', 'object', 'Description', 'Data', 'Quality', 'Manager', 'Job', 'is', 'available', 'in', 'Karac', 'Name', '93', 'dtype', 'object', 'Description', 'Background', 'To', 'complete', 'Online', 'Assessment', 'visi', 'Name', '94', 'dtype', 'object', 'Description', 'VIDIZMO', 'a', 'USA', 'company', 'headquartered', 'in', 'Tysons', 'Name', '95', 'dtype', 'object', 'Description', 'A', 'resource', 'is', 'required', 'for', 'a', 'client', 'Following', 'Name', '96', 'dtype', 'object', 'Description', 'NaN', 'Name', '97', 'dtype', 'object', 'Description', 'PREDAMS', 'is', 'a', 'marketing', 'and', 'services', 'company', 'lo', 'Name', '98', 'dtype', 'object', 'Description', 'As', 'a', 'Machine', 'Learning', 'Trainee', 'at', 'VIDIZMO', 'you', 'Name', '99', 'dtype', 'object', 'Description', 'Program', 'Job', 'Grade', 'Reporting', 'To', 'Employment', 'Type', 'Name', '100', 'dtype', 'object', 'Description', 'We', 'are', 'looking', 'for', 'an', 'experienced', 'Power', 'BI', 'Dev', 'Name', '101', 'dtype', 'object', 'Description', 'About', 'the', 'Senior', 'Data', 'Engineer', 'position', 'We', 'are', 'Name', '102', 'dtype', 'object', 'Description', 'Requirements', 'Name', '103', 'dtype', 'object', 'Description', 'ONE', 'Technology', 'Services', 'is', 'seeking', 'a', 'highly', 'sk', 'Name', '104', 'dtype', 'object', 'Description', 'Our', 'clients', 'operate', 'in', 'a', 'world', 'where', 'achieving', 'Name', '105', 'dtype', 'object', 'Description', 'RIKSOF', 'is', 'an', 'award', 'winning', 'mobile', 'and', 'web', 'app', 'Name', '106', 'dtype', 'object', 'Description', 'Interested', 'candidates', 'should', 'send', 'their', 'detail', 'Name', '107', 'dtype', 'object', 'Description', 'Please', 'do', 'not', 'apply', 'if', 'you', 'do', \"n't\", 'have', 'US', 'EXPER', 'Name', '108', 'dtype', 'object', 'Description', 'Technology', 'continues', 'to', 'play', 'an', 'increasingly', 'l', 'Name', '109', 'dtype', 'object', 'Description', 'The', 'role', 'requires', 'a', 'strong', 'knowledge', 'of', 'GSK', 'Name', '110', 'dtype', 'object', 'Description', 'Health', 'care', 'is', 'all', 'about', 'conversations', 'with', 'o', 'Name', '111', 'dtype', 'object', 'Description', 'Being', 'a', 'Microsoft', 'Gold', 'Partner', 'we', '’re', 'committ', 'Name', '112', 'dtype', 'object', 'Description', 'DevOps', 'engineers', 'are', 'responsible', 'for', 'smoothly', 'Name', '113', 'dtype', 'object', 'Description', 'NaN', 'Name', '114', 'dtype', 'object', 'Description', 'We', 'are', 'looking', 'for', 'Interns', 'to', 'work', 'with', 'us', 'and', 'Name', '115', 'dtype', 'object', 'Description', 'Job', 'Summary', 'Someone', 'highly', 'experienced', 'in', 'da', 'Name', '116', 'dtype', 'object', 'Description', 'Need', 'Junior', 'Software', 'Application', 'Developer', 'f', 'Name', '117', 'dtype', 'object', 'Description', 'Job', 'Type', 'Full', 'time', 'Salary', 'Rs50,000.00', 'Rs10', 'Name', '118', 'dtype', 'object', 'Description', 'We', 'are', 'seeking', 'an', 'experienced', 'and', 'adaptable', 'Fr', 'Name', '119', 'dtype', 'object', 'Description', 'We', 'are', 'looking', 'for', 'an', 'experienced', 'Power', 'BI', 'Dev', 'Name', '120', 'dtype', 'object', 'Description', 'Job', 'Type', 'Full', 'time', 'Salary', 'Rs50,000.00', 'Rs10', 'Name', '121', 'dtype', 'object', 'Description', 'L.', 'Qualifications', 'Bachelors', 'or', 'Masters', 'in', 'Inf', 'Name', '122', 'dtype', 'object', 'Description', 'Golpik', 'is', 'looking', 'for', 'a', 'Software', 'Engineer', 'PHP/', 'Name', '123', 'dtype', 'object', 'Description', 'Works', 'under', 'the', 'supervision', 'of', 'the', 'Recruitment', 'Name', '124', 'dtype', 'object', 'Description', 'We', 'are', 'looking', 'for', 'Interns', 'to', 'work', 'with', 'us', 'and', 'Name', '125', 'dtype', 'object', 'Description', 'Need', 'Junior', 'Software', 'Application', 'Developer', 'f', 'Name', '126', 'dtype', 'object', 'Description', 'Job', 'Summary', 'Someone', 'highly', 'experienced', 'in', 'da', 'Name', '127', 'dtype', 'object', 'Description', 'Requirements', 'Name', '128', 'dtype', 'object', 'Description', 'More', 'about', 'EssenceMediacom', 'We', 'are', 'a', 'global', 'c', 'Name', '129', 'dtype', 'object', 'Description', 'NaN', 'Name', '130', 'dtype', 'object', 'Description', 'KSBL', 'is', 'looking', 'to', 'hire', 'Research', 'Assistant', 'in', 'Name', '131', 'dtype', 'object', 'Description', 'Senior', 'ODOO', 'Developer', 'JD', 'Position', 'Senior', 'ODO', 'Name', '132', 'dtype', 'object', 'Description', 'About', 'niXaam', 'LLC', 'niXaam', 'LLC', 'is', 'a', 'cutting', 'edge', 'Name', '133', 'dtype', 'object', 'Description', 'Major', 'Responsibilities', 'Skills', 'Qualification', 'Name', '134', 'dtype', 'object', 'Description', 'Responsibilities', 'Authorities', 'Accountabiliti', 'Name', '135', 'dtype', 'object', 'Description', 'NaN', 'Name', '136', 'dtype', 'object', 'Description', 'Qualifications', 'Skills', 'Job', 'Description', 'Job', 'T', 'Name', '137', 'dtype', 'object', 'Description', 'Company', 'Brainiac', 'Creation', 'Location', 'Address', 'Name', '138', 'dtype', 'object', 'Description', 'Please', 'do', 'not', 'apply', 'if', 'you', 'do', \"n't\", 'have', 'US', 'EXPER', 'Name', '139', 'dtype', 'object', 'Description', 'Job', 'Summary', 'We', 'are', 'seeking', 'a', 'highly', 'motivated', 'Name', '140', 'dtype', 'object', 'Description', 'Position', 'Overview', 'As', 'a', 'Senior', 'Machine', 'Learnin', 'Name', '141', 'dtype', 'object', 'Description', 'Become', 'a', 'part', 'of', 'one', 'of', 'the', 'leading', 'healthcare', 'Name', '142', 'dtype', 'object', 'Description', 'Purpose', 'The', 'Head', 'of', 'Software', 'Quality', 'Assurance', 'Name', '143', 'dtype', 'object', 'Description', 'Job', 'Title', 'Senior', 'SEO', 'Executive', 'Location', 'Kara', 'Name', '144', 'dtype', 'object', 'Description', 'We', 'are', 'undertaking', 'a', 'Data', 'Transformation', 'and', 'a', 'Name', '145', 'dtype', 'object', 'Description', 'Al', 'Haya', 'Group', 'of', 'Companies', 'is', 'looking', 'to', 'hire', 'Name', '146', 'dtype', 'object', 'Description', 'Program', 'Job', 'Grade', 'Reporting', 'To', 'Employment', 'Type', 'Name', '147', 'dtype', 'object', 'Description', 'Job', 'Purpose', 'The', 'Sr', 'Demand', 'Planner', 'provides', 'Name', '148', 'dtype', 'object', 'Description', 'Are', 'you', 'the', 'type', 'of', 'person', 'that', 'is', 'passionate', 'Name', '149', 'dtype', 'object', 'Description', 'Job', 'Summary', 'Someone', 'highly', 'experienced', 'in', 'da', 'Name', '150', 'dtype', 'object', 'Description', 'We', 'are', 'looking', 'for', 'Interns', 'to', 'work', 'with', 'us', 'and', 'Name', '151', 'dtype', 'object', 'Description', 'We', 'are', 'undertaking', 'a', 'Data', 'Transformation', 'and', 'a', 'Name', '152', 'dtype', 'object', 'Description', 'NaN', 'Name', '153', 'dtype', 'object', 'Description', 'Job', 'Description', 'Collaborate', 'with', 'the', 'Chairm', 'Name', '154', 'dtype', 'object', 'Description', 'Please', 'send', 'us', 'your', 'recent', 'resume', 'to', 'jobs@ape', 'Name', '155', 'dtype', 'object', 'Description', 'Company', 'Brainiac', 'Creation', 'Location', 'Address', 'Name', '156', 'dtype', 'object', 'Description', 'Need', 'Junior', 'Software', 'Application', 'Developer', 'f', 'Name', '157', 'dtype', 'object', 'Description', 'Manager', 'Systems', 'Admin', 'Our', 'Client', 'a', 'reputed', 'n', 'Name', '158', 'dtype', 'object', 'Description', 'About', 'niXaam', 'LLC', 'niXaam', 'LLC', 'is', 'a', 'cutting', 'edge', 'Name', '159', 'dtype', 'object', 'Description', 'Job', 'Location', 'Job', 'Description', 'About', 'us', 'Bei', 'Name', '160', 'dtype', 'object', 'Description', 'We', 'are', 'looking', 'to', 'add', 'talented', 'Machine', 'Learnin', 'Name', '161', 'dtype', 'object', 'Description', 'LN', 'Technologies', 'a', 'subsidiary', 'of', 'App', 'Maisters', 'Name', '162', 'dtype', 'object', 'Description', 'Job', 'Purpose', 'The', 'purpose', 'of', 'the', 'job', 'is', 'to', 'ens', 'Name', '163', 'dtype', 'object', 'Description', 'Data', 'Domain', 'Manager', 'Job', 'is', 'available', 'in', 'Karach', 'Name', '164', 'dtype', 'object', 'Description', 'About', 'Beam', 'Beam', 'is', 'a', 'tech', 'start', 'up', 'leveraging', 'Name', '165', 'dtype', 'object', 'Description', 'WE', 'ARE', 'HIRING', 'WE', 'ARE', 'HIRING', 'Pre', 'Sales', 'E', 'Name', '166', 'dtype', 'object', 'Description', 'Title', 'Senior', 'Associate', 'IT', 'Internal', 'Audit', 'Em', 'Name', '167', 'dtype', 'object', 'Description', 'Job', 'Title', 'SEO', 'Executive', 'Location', 'Karachi', 'Job', 'Name', '168', 'dtype', 'object', 'Description', 'aResponsibilities', 'and', 'Duties', 'Requirements', 'Jo', 'Name', '169', 'dtype', 'object', 'Description', 'Job', 'Description', 'We', 'are', 'looking', 'for', 'skilled', 'a', 'Name', '170', 'dtype', 'object', 'Description', 'If', 'you', 'are', 'a', 'strategic', 'and', 'results', 'oriented', 'th', 'Name', '171', 'dtype', 'object', 'Description', 'Line', 'of', 'Service', 'Industry', 'Sector', 'Specialism', 'Name', '172', 'dtype', 'object', 'Description', 'Creating', 'a', 'job', 'description', 'for', 'a', 'Trainer', 'speci', 'Name', '173', 'dtype', 'object', 'Description', 'DigitalOcean', 'NYSE', 'DOCN', 'simplifies', 'cloud', 'co', 'Name', '174', 'dtype', 'object', 'Description', 'Careem', 'is', 'building', 'the', 'Everything', 'App', 'for', 'the', 'Name', '175', 'dtype', 'object', 'Description', 'About', 'the', 'Client', 'Our', 'client', 'is', 'an', 'innovative', 'Name', '176', 'dtype', 'object', 'Description', 'Penta', 'Developments', 'is', 'looking', 'to', 'hire', 'a', 'passio', 'Name', '177', 'dtype', 'object', 'Description', 'Job', 'Description', 'We', 'are', 'seeking', 'an', 'exceptional', 'Name', '178', 'dtype', 'object', 'Description', 'We', 'are', 'looking', 'for', 'a', 'highly', 'skilled', 'Full', 'stack', 'Name', '179', 'dtype', 'object', 'Description', 'You', 'should', 'send', 'your', 'detailed', 'CV', 'by', 'email', 'to', 'h', 'Name', '180', 'dtype', 'object', 'Description', 'Job', 'Summary', 'We', 'are', 'seeking', 'an', 'experienced', 'Mi', 'Name', '181', 'dtype', 'object', 'Description', 'Job', 'Timings', '9:00', 'PM', '6:00', 'AM', 'MON', 'FRI', 'Pre', 'Name', '182', 'dtype', 'object', 'Description', 'Requirements', 'Responsibilities', 'Job', 'Types', 'Ful', 'Name', '183', 'dtype', 'object', 'Description', 'The', 'ideal', 'candidate', 'is', 'a', 'highly', 'resourceful', 'an', 'Name', '184', 'dtype', 'object', 'Description', 'If', 'you', 'are', 'a', 'strategic', 'and', 'results', 'oriented', 'th', 'Name', '185', 'dtype', 'object', 'Description', 'Line', 'of', 'Service', 'Industry', 'Sector', 'Specialism', 'Name', '186', 'dtype', 'object', 'Description', 'About', 'the', 'Client', 'Our', 'client', 'is', 'an', 'innovative', 'Name', '187', 'dtype', 'object', 'Description', 'Interested', 'candidates', 'should', 'send', 'their', 'resume', 'Name', '188', 'dtype', 'object', 'Description', 'About', 'us', 'We', 'are', 'professional', 'and', 'agile', 'Our', 'wo', 'Name', '189', 'dtype', 'object', 'Description', 'We', 'are', 'looking', 'for', 'motivated', 'individuals', 'who', 'a', 'Name', '190', 'dtype', 'object', 'Description', 'jeeny', 'is', 'a', 'mobile', 'application', 'that', 'eases', 'daily', 'Name', '191', 'dtype', 'object', 'Description', 'We', 'are', 'looking', 'for', 'a', 'BigData', 'Engineer', 'Name', '192', 'dtype', 'object', 'Description', 'Careem', 'is', 'building', 'the', 'Everything', 'App', 'for', 'the', 'Name', '193', 'dtype', 'object', 'Description', 'BariTechSol', 'looking', 'for', 'SQA', 'Engineer', 'who', 'is', 'ha', 'Name', '194', 'dtype', 'object', 'Description', 'Role', 'Qualifications', 'Experience', 'with', 'applic', 'Name', '195', 'dtype', 'object', 'Description', 'JOB', 'DESCRIPTION', 'Position', 'Head', 'of', 'Digital', 'Loca', 'Name', '196', 'dtype', 'object', 'Description', 'The', 'IT', 'department', 'is', 'responsible', 'for', 'supportin', 'Name', '197', 'dtype', 'object', 'Description', 'Sr', 'Manager', 'Cloud', 'Infrastructure', 'Job', 'Descripti', 'Name', '198', 'dtype', 'object', 'Description', 'JOB', 'DESCRIPTION', 'Position', 'MEL', 'Officer', 'Females', 'Name', '199', 'dtype', 'object', 'Description', 'We', 'are', 'looking', 'for', 'PHP', 'Developers', 'to', 'join', 'one', 'Name', '200', 'dtype', 'object', 'Description', 'Shispare', 'is', 'currently', 'looking', 'for', 'a', 'skilled', 'No', 'Name', '201', 'dtype', 'object', 'Description', 'Job', 'Description', 'Software', 'Engineer', 'Positions', 'P', 'Name', '202', 'dtype', 'object', 'Description', 'Job', 'Summary', 'We', 'are', 'seeking', 'a', 'skilled', 'BI', 'Devel', 'Name', '203', 'dtype', 'object', 'Description', 'As', 'a', 'Python', 'Django', 'developer', 'you', 'will', 'get', 'an', 'Name', '204', 'dtype', 'object', 'Description', 'We', 'are', 'seeking', 'a', 'highly', 'motivated', 'Senior', 'Busin', 'Name', '205', 'dtype', 'object', 'Description', 'Job', 'Information', 'Age', 'Bracket', '25', '35', 'years', 'Pos', 'Name', '206', 'dtype', 'object', 'Description', 'We', 'are', 'looking', 'for', 'a', 'talented', 'and', 'experienced', 'Name', '207', 'dtype', 'object', 'Description', 'Key', 'Responsibilities', 'Requirements', 'Qualificatio', 'Name', '208', 'dtype', 'object', 'Description', 'We', 'are', 'seeking', 'a', 'highly', 'experienced', 'and', 'skille', 'Name', '209', 'dtype', 'object', 'Description', '4', 'Ace', 'Technologies', 'is', 'a', 'software', 'company', 'opera', 'Name', '210', 'dtype', 'object', 'Description', 'NaN', 'Name', '211', 'dtype', 'object', 'Description', 'Job', 'description', 'We', 'are', 'looking', 'for', 'python', 'deve', 'Name', '212', 'dtype', 'object', 'Description', 'We', 'are', 'looking', 'for', 'an', 'IT', 'Audit', 'Manager', 'with', '12', 'Name', '213', 'dtype', 'object', 'Description', 'Join', 'the', 'team', 'at', 'Riuman', 'International', 'and', 'put', 'Name', '214', 'dtype', 'object', 'Description', 'Job', 'brief', 'We', 'are', 'looking', 'for', 'an', 'outstanding', 'We', 'Name', '215', 'dtype', 'object', 'Description', 'Job', 'Summary', 'Jamal', 'Noor', 'Hospital', 'is', 'seeking', 'an', 'Name', '216', 'dtype', 'object', 'Description', 'The', 'role', 'of', 'Business', 'Intelligence', 'BI', 'Devel', 'Name', '217', 'dtype', 'object', 'Description', 'Key', 'Responsibilities', 'Developing', 'maintaini', 'Name', '218', 'dtype', 'object', 'Description', 'NaN', 'Name', '219', 'dtype', 'object', 'Description', 'Experienced', 'Tech', 'Assistant', 'Job', 'Offering', 'Remot', 'Name', '220', 'dtype', 'object', 'Description', 'Job', 'Title', 'SOC', 'Analyst', 'IT', 'Infrastructure', 'and', 'Name', '221', 'dtype', 'object', 'Description', 'Job', 'Description', 'Knowledge', 'Skills', 'and', 'Experie', 'Name', '222', 'dtype', 'object', 'Description', 'Knowledge', 'Skills', 'and', 'Personal', 'Characteristics', 'Name', '223', 'dtype', 'object', 'Description', 'We', 'are', 'looking', 'for', 'an', 'iOS', 'intern', 'who', 'possesses', 'Name', '224', 'dtype', 'object', 'Description', 'Job', 'Description', 'We', 'are', 'seeking', 'a', 'talented', 'and', 'Name', '225', 'dtype', 'object', 'Description', 'Job', 'Specification', 'Job', 'experience', 'Job', 'Type', 'F', 'Name', '226', 'dtype', 'object', 'Description', 'Position', 'Digital', 'Analytics', 'ManagerDepartment', 'Name', '227', 'dtype', 'object', 'Description', 'As', 'a', 'Node.js', 'Developer', 'at', 'Techoniq', 'you', 'will', 'p', 'Name', '228', 'dtype', 'object', 'Description', 'Location', 'Karachi', 'Pakistan', 'Job', 'Type', 'Full', 'ti', 'Name', '229', 'dtype', 'object', 'Description', 'The', 'Technical', 'Consultant', 'in', 'the', 'PMO', 'office', 'is', 'Name', '230', 'dtype', 'object', 'Description', 'NaN', 'Name', '231', 'dtype', 'object', 'Description', 'As', 'a', 'Laravel', 'Developer', 'you', 'will', 'be', 'responsibl', 'Name', '232', 'dtype', 'object', 'Description', 'We', 'are', 'searching', 'for', 'a', 'motivated', 'and', 'enthusia', 'Name', '233', 'dtype', 'object', 'Description', 'In', 'a', 'Nutshell', 'As', 'Senior', 'Backend', 'Architect', 'you', 'Name', '234', 'dtype', 'object', 'Description', 'NaN', 'Name', '235', 'dtype', 'object', 'Description', 'We', 'are', 'seeking', 'a', 'highly', 'motivated', 'and', 'experien', 'Name', '236', 'dtype', 'object', 'Description', 'Eplanet', 'Global', 'is', 'looking', 'for', 'a', 'Game', 'Developer', 'Name', '237', 'dtype', 'object', 'Description', 'Job', 'Description', 'We', 'are', 'seeking', 'an', 'experienced', 'Name', '238', 'dtype', 'object', 'Description', 'MangoTech', 'Solutions', 'is', 'looking', 'for', 'Node', 'Js', 'Dev', 'Name', '239', 'dtype', 'object', 'Description', 'Job', 'Description', 'Details', 'Experience', '3', '+', 'years', 'Name', '240', 'dtype', 'object', 'Description', 'As', 'a', 'Medical', 'Information', 'Officer', 'MIO', 'Pharm', 'Name', '241', 'dtype', 'object', 'Description', 'TeReSol', 'Pvt', 'Ltd', 'is', 'looking', 'for', 'suitable', 'candi', 'Name', '242', 'dtype', 'object', 'Description', 'We', 'are', 'seeking', 'a', 'highly', 'skilled', 'and', 'experience', 'Name', '243', 'dtype', 'object', 'Description', 'We', 'are', 'seeking', 'a', 'skilled', 'Next.js', 'Developer', 'to', 'Name', '244', 'dtype', 'object', 'Description', 'Careem', 'is', 'building', 'the', 'Everything', 'App', 'for', 'the', 'Name', '245', 'dtype', 'object', 'Description', 'Job', 'description', 'We', 'are', 'looking', 'for', 'an', 'enthusia', 'Name', '246', 'dtype', 'object', 'Description', 'Job', 'Information', 'Age', 'Bracket', '30', '40', 'years', 'Pos', 'Name', '247', 'dtype', 'object', 'Description', 'Qualification', 'BS', 'Computer', 'Science', 'Experience', 'Name', '248', 'dtype', 'object', 'Description', 'Job', 'Responsibilities', 'Develop', 'Flutter', 'applica', 'Name', '249', 'dtype', 'object', 'Description', 'NaN', 'Name', '250', 'dtype', 'object', 'Description', 'Ruby', 'on', 'Rails', 'Developer', 'Responsibilities', 'We', 'Name', '251', 'dtype', 'object', 'Description', 'About', 'Mobiz', 'Mobiz', 'is', 'an', 'information', 'technolog', 'Name', '252', 'dtype', 'object', 'Description', 'Sofsticais', 'urgently', 'looking', 'for', 'an', 'experienced', 'Name', '253', 'dtype', 'object', 'Description', 'NaN', 'Name', '254', 'dtype', 'object', 'Description', 'NaN', 'Name', '255', 'dtype', 'object', 'Description', 'Jr.', 'Node', 'JS', 'Developer', 'Job', 'Description', 'eSpark', 'Name', '256', 'dtype', 'object', 'Description', 'Cooperative', 'Computing', 'CC', 'We', 'accelerate', 'gro', 'Name', '257', 'dtype', 'object', 'Description', 'Job', 'description', 'We', 'are', 'looking', 'for', 'a', 'dynamic', 'M', 'Name', '258', 'dtype', 'object', 'Description', 'Software', 'Architect', 'Fintech', 'Location', 'Karachi', 'Name', '259', 'dtype', 'object', 'Description', 'NaN', 'Name', '260', 'dtype', 'object', 'Description', 'Techstack', 'Digital', 'is', 'looking', 'for', 'Sr', 'to', 'lead', 'Name', '261', 'dtype', 'object', 'Description', 'Job', 'Responsibilities', 'Qualifications', 'and', 'Skill', 'Name', '262', 'dtype', 'object', 'Description', 'As', 'a', 'pioneering', 'provider', 'of', 'unit', 'linked', 'life', 'Name', '263', 'dtype', 'object', 'Description', 'TPL', 'Trakker', 'is', 'hiring', 'an', 'experienced', 'MEAN', 'Full', 'Name', '264', 'dtype', 'object', 'Description', 'Macpac', 'Films', 'Ltd.', 'pioneer', 'of', 'BOPP', 'biaxially', 'Name', '265', 'dtype', 'object', 'Description', 'Center', 'for', 'Non', 'Communicable', 'Diseases', 'CNCD', 'i', 'Name', '266', 'dtype', 'object', 'Description', 'Senior', 'PHP', 'Developer', 'JOB', 'DETAILS', 'Job', 'Type', 'Full', 'Name', '267', 'dtype', 'object', 'Description', 'Send', 'us', 'your', 'resume', 'at', 'careers@360factors.com', 'Name', '268', 'dtype', 'object', 'Description', 'Position', 'BI', 'SupervisorNumber', 'of', 'Positions', '1L', 'Name', '269', 'dtype', 'object', 'Description', 'JOB', 'REQUIREMENTS', 'QUALIFICATIONS', 'SKILLS', 'NEEDED', 'Name', '270', 'dtype', 'object', 'Description', 'Your', 'proficiency', 'in', 'Oracle', 'applications', 'speci', 'Name', '271', 'dtype', 'object', 'Description', 'Out', 'Origin', 'provides', 'a', 'diverse', 'range', 'of', 'IT', 'serv', 'Name', '272', 'dtype', 'object', 'Description', 'STALLYONS', 'TECHNOLOGIES', 'is', 'on', 'the', 'lookout', 'for', 'a', 'Name', '273', 'dtype', 'object', 'Description', 'Job', 'Purpose', 'Responsible', 'for', 'planning', 'prepari', 'Name', '274', 'dtype', 'object', 'Description', 'More', 'about', 'mSix&Partners', 'With', 'over', '40', 'office', 'Name', '275', 'dtype', 'object', 'Description', 'Senior', 'UI', 'UX', 'Designer', 'Department', 'Product', 'Te', 'Name', '276', 'dtype', 'object', 'Description', 'Job', 'Information', 'Age', 'Bracket', '30', '36', 'years', 'Pos', 'Name', '277', 'dtype', 'object', 'Description', 'Job', 'Summary', 'We', 'are', 'seeking', 'a', 'highly', 'exper', 'Name', '278', 'dtype', 'object', 'Description', 'We', 'are', 'looking', 'to', 'add', 'talented', 'Backend', 'Softwar', 'Name', '279', 'dtype', 'object', 'Description', 'Job', 'Description', 'Knowledge', 'Skills', 'and', 'Experie', 'Name', '280', 'dtype', 'object', 'Description', 'Job', 'Summary', 'We', \"'re\", 'looking', 'for', 'an', 'eager', 'and', 'a', 'Name', '281', 'dtype', 'object', 'Description', 'Role', 'Requirements', 'Location', 'Skills', 'and', 'Competen', 'Name', '282', 'dtype', 'object', 'Description', 'Job', 'Description', 'We', 'are', 'looking', 'for', 'an', 'Android', 'Name', '283', 'dtype', 'object', 'Description', 'NaN', 'Name', '284', 'dtype', 'object', 'Description', 'We', 'are', 'seeking', 'a', 'highly', 'skilled', 'and', 'experience', 'Name', '285', 'dtype', 'object', 'Description', 'Responsibilities', 'Requirements', 'Good', 'to', 'have', 'Name', '286', 'dtype', 'object', 'Description', 'Job', 'Description', 'We', 'are', 'looking', 'for', 'an', 'Android', 'Name', '287', 'dtype', 'object', 'Description', 'HR', 'Ways', 'is', 'on', 'the', 'lookout', 'for', 'IT', 'Administrator', 'Name', '288', 'dtype', 'object', 'Description', 'We', 'are', 'seeking', 'a', 'dedicated', 'analytical', 'and', 'te', 'Name', '289', 'dtype', 'object', 'Description', 'Essential', 'Duties', 'and', 'Responsibilities', 'Experie', 'Name', '290', 'dtype', 'object', 'Description', 'HR', 'Ways', 'is', 'looking', 'for', 'Product', 'Specialist', 'with', 'Name', '291', 'dtype', 'object', 'Description', 'Shopify', 'developer', 'is', 'responsible', 'for', 'designing', 'Name', '292', 'dtype', 'object', 'Description', 'Bachelor', '’s', 'degree', 'in', 'Computer', 'Science', 'or', 'relat', 'Name', '293', 'dtype', 'object', 'Description', 'We', 'are', 'looking', 'to', 'add', 'talented', 'Backend', 'Softwar', 'Name', '294', 'dtype', 'object', 'Description', 'Candidates', 'with', 'immediate', 'availability', 'will', 'be', 'Name', '295', 'dtype', 'object', 'Description', 'Confiz', 'is', 'looking', 'froward', 'to', 'hire', 'the', 'best', 'tal', 'Name', '296', 'dtype', 'object', 'Description', 'We', 'are', 'looking', 'for', 'a', 'MicroStrategy', 'Developer', 'Name', '297', 'dtype', 'object', 'Description', 'Our', 'client', 'is', 'developing', 'a', 'mobile', 'application', 'Name', '298', 'dtype', 'object', 'Description', 'About', 'Beam', 'Beam', 'is', 'a', 'tech', 'start', 'up', 'leveraging', 'Name', '299', 'dtype', 'object', 'Description', 'In', 'a', 'fast', 'growing', 'environment', 'you', '’ll', 'work', 'amo', 'Name', '300', 'dtype', 'object', 'Description', 'NaN', 'Name', '301', 'dtype', 'object', 'Description', 'DigitalOcean', 'NYSE', 'DOCN', 'simplifies', 'cloud', 'co', 'Name', '302', 'dtype', 'object', 'Description', 'We', 'are', 'looking', 'to', 'add', 'talented', 'Backend', 'Enginee', 'Name', '303', 'dtype', 'object', 'Description', 'Horizon', 'Technologies', 'is', 'looking', 'for', 'experience', 'Name', '304', 'dtype', 'object', 'Description', 'Job', 'Description', 'Bachelor', \"'s\", 'or', 'master', \"'s\", 'degree', 'Name', '305', 'dtype', 'object', 'Description', 'Responsibilities', 'Design', 'develop', 'and', 'test', 'a', 'Name', '306', 'dtype', 'object', 'Description', 'Requirements', 'Experience', 'Job', 'Type', 'Full', 'time', 'Name', '307', 'dtype', 'object', 'Description', 'We', 'are', 'seeking', 'a', 'skilled', 'and', 'motivated', 'Node.js', 'Name', '308', 'dtype', 'object', 'Description', 'We', 'are', 'seeking', 'a', 'Technical', 'Business', 'Analyst', 'to', 'Name', '309', 'dtype', 'object', 'Description', 'The', 'Center', 'for', 'Non', 'Communicable', 'Diseases', 'CNCD', 'Name', '310', 'dtype', 'object', 'Description', 'STALLYONS', 'TECHNOLOGIES', 'a', 'leading', 'software', 'sol', 'Name', '311', 'dtype', 'object', 'Description', 'HR', 'Ways', 'is', 'looking', 'for', 'Product', 'Specialist', 'with', 'Name', '312', 'dtype', 'object', 'Description', 'Token', 'Metrics', 'is', 'searching', 'for', 'a', 'Cryptocurrenc', 'Name', '313', 'dtype', 'object', 'Description', 'We', 'are', 'looking', 'for', 'a', 'Senior', 'Backend', 'PHP', 'Develo', 'Name', '314', 'dtype', 'object', 'Description', 'Job', 'Brief', 'About', 'the', 'Company', 'At', 'our', 'Ibix', 'Globa', 'Name', '315', 'dtype', 'object', 'Description', 'Job', 'Requirement', 'Gender', 'Male', 'Only', 'Job', 'Type', 'F', 'Name', '316', 'dtype', 'object', 'Description', 'Responsibilities', 'Qualifications', 'Job', 'Type', 'Fu', 'Name', '317', 'dtype', 'object', 'Description', 'Tech', 'Inoviq', 'is', 'looking', 'for', 'Temenos', 'Infinity', 'De', 'Name', '318', 'dtype', 'object', 'Description', 'Loop', 'is', 'a', 'fintech', 'product', 'based', 'company', 'dedica', 'Name', '319', 'dtype', 'object', 'Description', 'Are', 'you', 'a', 'highly', 'motivated', 'and', 'resilient', 'web', 'd', 'Name', '320', 'dtype', 'object', 'Description', 'We', 'are', 'looking', 'to', 'expand', 'our', 'team', 'of', 'Software', 'Name', '321', 'dtype', 'object', 'Description', 'We', 'are', 'seeking', 'a', 'highly', 'skilled', 'Full', 'Stack', 'PHP', 'Name', '322', 'dtype', 'object', 'Description', 'Requirements', 'Experience', 'Job', 'Type', 'Full', 'time', 'Name', '323', 'dtype', 'object', 'Description', 'Alpha', 'Mu', 'Digital', 'Ventures', 'is', 'an', 'offshore', 'and', 'Name', '324', 'dtype', 'object', 'Description', 'Job', 'Description', 'Sr', 'Node', 'JS', 'Developer', 'Job', 'Req', 'Name', '325', 'dtype', 'object', 'Description', 'Job', 'description', 'Primary', 'Objective', 'The', 'main', 'rol', 'Name', '326', 'dtype', 'object', 'Description', 'ONE', 'Technology', 'Services', 'is', 'seeking', 'a', 'highly', 'sk', 'Name', '327', 'dtype', 'object', 'Description', 'Position', 'Android', 'Developer', 'Location', 'Shahra', 'e', 'Name', '328', 'dtype', 'object', 'Description', 'NaN', 'Name', '329', 'dtype', 'object', 'Description', 'Tapmad', 'TV', 'is', 'offering', 'a', 'full', 'time', 'position', 'as', 'Name', '330', 'dtype', 'object', 'Description', 'We', 'are', 'seeking', 'an', 'experienced', 'and', 'highly', 'skill', 'Name', '331', 'dtype', 'object', 'Description', 'iOS', 'Developer', 'About', 'this', 'role', 'We', 'are', 'looking', 't', 'Name', '332', 'dtype', 'object', 'Description', 'In', 'a', 'Nutshell', 'As', 'Senior', 'Software', 'Architect', 'yo', 'Name', '333', 'dtype', 'object', 'Description', 'Job', 'Title', 'Full', 'Stack', 'PHP', 'Developer', 'Company', 'C', 'Name', '334', 'dtype', 'object', 'Description', 'We', 'are', 'looking', 'for', 'a', 'skilled', 'PHP', 'Laravel', 'devel', 'Name', '335', 'dtype', 'object', 'Description', 'We', 'are', 'seeking', 'a', 'passionate', 'and', 'skilled', 'Senior', 'Name', '336', 'dtype', 'object', 'Description', 'Job', 'description', 'We', 'are', 'seeking', 'a', 'highly', 'skille', 'Name', '337', 'dtype', 'object', 'Description', 'Job', 'Information', 'Age', 'Bracket', '25', '35', 'years', 'Pos', 'Name', '338', 'dtype', 'object', 'Description', 'Job', 'Summary', 'We', 'are', 'looking', 'for', 'SEO', 'Manager', 'to', 'Name', '339', 'dtype', 'object', 'Description', 'Java', 'Developer', 'for', 'OMNEX', 'Backend', 'Here', 'at', 'Small', 'Name', '340', 'dtype', 'object', 'Description', 'A', 'leading', 'e', 'commerce', 'industry', 'specializing', 'in', 'Name', '341', 'dtype', 'object', 'Description', 'Futurealiti', 'is', 'a', 'cutting', 'edge', 'technology', 'compa', 'Name', '342', 'dtype', 'object', 'Description', 'Job', 'description', 'Responsibilities', 'Requirements', 'Name', '343', 'dtype', 'object', 'Description', 'Out', 'Origin', 'provides', 'a', 'diverse', 'range', 'of', 'IT', 'serv', 'Name', '344', 'dtype', 'object', 'Description', 'Position', 'Full', 'Stack', 'Developer', 'Industry', 'Insu', 'Name', '345', 'dtype', 'object', 'Description', 'Job', 'description', 'Responsibilities', 'Requirements', 'Name', '346', 'dtype', 'object', 'Description', 'jeeny', 'is', 'a', 'mobile', 'application', 'that', 'eases', 'daily', 'Name', '347', 'dtype', 'object', 'Description', 'Job', 'Information', 'Age', 'Bracket', '25', '35', 'years', 'Posi', 'Name', '348', 'dtype', 'object', 'Description', 'Job', 'Description', 'As', 'a', 'Senior', 'Node.js', 'Developer', 'Name', '349', 'dtype', 'object', 'Description', 'Are', 'you', 'a', 'highly', 'motivated', 'and', 'resilient', 'web', 'd', 'Name', '350', 'dtype', 'object', 'Description', 'Out', 'Origin', 'provides', 'a', 'diverse', 'range', 'of', 'IT', 'serv', 'Name', '351', 'dtype', 'object', 'Description', 'Job', 'brief', 'We', 'are', 'looking', 'for', 'an', 'outstanding', 'We', 'Name', '352', 'dtype', 'object', 'Description', 'NaN', 'Name', '353', 'dtype', 'object', 'Description', 'Careem', 'is', 'building', 'the', 'Everything', 'App', 'for', 'the', 'Name', '354', 'dtype', 'object', 'Description', 'We', 'are', 'looking', 'for', 'an', 'iOS', 'developer', 'responsibl', 'Name', '355', 'dtype', 'object', 'Description', 'NaN', 'Name', '356', 'dtype', 'object', 'Description', 'Job', 'Summary', 'We', 'are', 'seeking', 'an', 'experienced', 'IT', 'Name', '357', 'dtype', 'object', 'Description', 'NaN', 'Name', '358', 'dtype', 'object', 'Description', 'Tejar.pk', 'is', 'looking', 'for', 'an', 'experienced', 'profes', 'Name', '359', 'dtype', 'object', 'Description', 'NaN', 'Name', '360', 'dtype', 'object', 'Description', 'HR', 'Ways', 'is', 'currently', 'seeking', 'a', 'highly', 'skilled', 'Name', '361', 'dtype', 'object', 'Description', 'In', 'a', 'fast', 'growing', 'environment', 'you', '’ll', 'work', 'amo', 'Name', '362', 'dtype', 'object', 'Description', 'In', 'a', 'fast', 'growing', 'environment', 'you', '’ll', 'work', 'amo', 'Name', '363', 'dtype', 'object', 'Description', 'A', 'Full', 'Stack', 'Developer', 'must', 'possesses', 'expertis', 'Name', '364', 'dtype', 'object', 'Description', 'Do', 'you', 'enjoy', 'creating', 'and', 'developing', 'applicati', 'Name', '365', 'dtype', 'object', 'Description', 'NaN', 'Name', '366', 'dtype', 'object', 'Description', 'AQMS', 'Tech', 'is', 'a', 'rapidly', 'growing', 'software', 'develo', 'Name', '367', 'dtype', 'object', 'Description', 'A', 'PHP', 'Developer', 'job', 'description', 'typically', 'outl', 'Name', '368', 'dtype', 'object', 'Description', 'Responsibilities', 'Requirements', 'Extensive', 'unde', 'Name', '369', 'dtype', 'object', 'Description', 'NaN', 'Name', '370', 'dtype', 'object', 'Description', 'Key', 'Responsibilities', 'Developing', 'maintaini', 'Name', '371', 'dtype', 'object', 'Description', 'Job', 'Description', 'Requirements', 'Name', '372', 'dtype', 'object', 'Description', 'Job', 'Description', 'Requirements', 'Benefits', 'Name', '373', 'dtype', 'object', 'Description', 'Job', 'Summary', 'Do', 'you', 'enjoy', 'creating', 'and', 'develop', 'Name', '374', 'dtype', 'object', 'Description', 'Job', 'Description', 'Requirements', 'Benefits', 'Name', '375', 'dtype', 'object']\n"
     ]
    }
   ],
   "source": [
    "import pandas as pd\n",
    "import spacy\n",
    "\n",
    "# Load the English language model\n",
    "nlp = spacy.load(\"en_core_web_sm\")\n",
    "\n",
    "# Tokenize the text using spaCy\n",
    "word_list = []\n",
    "\n",
    "for i in range(len(description)):\n",
    "    words = description.iloc[i]\n",
    "    doc = nlp(str(words))\n",
    "    words = [token.text for token in doc if not token.is_punct and not token.is_space]\n",
    "    word_list.extend(words)\n",
    "\n",
    "# Print the list of words\n",
    "print(word_list)\n"
   ]
  },
  {
   "cell_type": "code",
   "execution_count": 45,
   "metadata": {},
   "outputs": [],
   "source": [
    "out = pd.DataFrame()\n",
    "out[\"words\"] = word_list\n",
    "out.to_csv(\"Clean Words Dataset.csv\", index=False)"
   ]
  },
  {
   "cell_type": "code",
   "execution_count": 46,
   "metadata": {},
   "outputs": [
    {
     "name": "stdout",
     "output_type": "stream",
     "text": [
      "             words\n",
      "0      Description\n",
      "1              Job\n",
      "2          Summary\n",
      "3          Seeking\n",
      "4                a\n",
      "...            ...\n",
      "4428  Requirements\n",
      "4429      Benefits\n",
      "4430          Name\n",
      "4432         dtype\n",
      "4433        object\n",
      "\n",
      "[4042 rows x 1 columns]\n"
     ]
    }
   ],
   "source": [
    "# Check if each element in the DataFrame can be converted to a number\n",
    "# (i.e., it's not a string containing non-numeric characters)\n",
    "mask = out.apply(lambda x: pd.to_numeric(x, errors='coerce').notna().all(), axis=1)\n",
    "\n",
    "# Filter the DataFrame to keep only rows where all values are numbers\n",
    "filtered_df = out[~mask]\n",
    "\n",
    "# Print the filtered DataFrame\n",
    "print(filtered_df)"
   ]
  },
  {
   "cell_type": "code",
   "execution_count": 49,
   "metadata": {},
   "outputs": [
    {
     "data": {
      "text/html": [
       "<div>\n",
       "<style scoped>\n",
       "    .dataframe tbody tr th:only-of-type {\n",
       "        vertical-align: middle;\n",
       "    }\n",
       "\n",
       "    .dataframe tbody tr th {\n",
       "        vertical-align: top;\n",
       "    }\n",
       "\n",
       "    .dataframe thead th {\n",
       "        text-align: right;\n",
       "    }\n",
       "</style>\n",
       "<table border=\"1\" class=\"dataframe\">\n",
       "  <thead>\n",
       "    <tr style=\"text-align: right;\">\n",
       "      <th></th>\n",
       "      <th>words</th>\n",
       "    </tr>\n",
       "  </thead>\n",
       "  <tbody>\n",
       "    <tr>\n",
       "      <th>0</th>\n",
       "      <td>Description</td>\n",
       "    </tr>\n",
       "    <tr>\n",
       "      <th>1</th>\n",
       "      <td>Job</td>\n",
       "    </tr>\n",
       "    <tr>\n",
       "      <th>2</th>\n",
       "      <td>Summary</td>\n",
       "    </tr>\n",
       "    <tr>\n",
       "      <th>3</th>\n",
       "      <td>Seeking</td>\n",
       "    </tr>\n",
       "    <tr>\n",
       "      <th>4</th>\n",
       "      <td>a</td>\n",
       "    </tr>\n",
       "    <tr>\n",
       "      <th>...</th>\n",
       "      <td>...</td>\n",
       "    </tr>\n",
       "    <tr>\n",
       "      <th>4365</th>\n",
       "      <td>typically</td>\n",
       "    </tr>\n",
       "    <tr>\n",
       "      <th>4366</th>\n",
       "      <td>outl</td>\n",
       "    </tr>\n",
       "    <tr>\n",
       "      <th>4374</th>\n",
       "      <td>Extensive</td>\n",
       "    </tr>\n",
       "    <tr>\n",
       "      <th>4375</th>\n",
       "      <td>unde</td>\n",
       "    </tr>\n",
       "    <tr>\n",
       "      <th>4407</th>\n",
       "      <td>Benefits</td>\n",
       "    </tr>\n",
       "  </tbody>\n",
       "</table>\n",
       "<p>789 rows × 1 columns</p>\n",
       "</div>"
      ],
      "text/plain": [
       "            words\n",
       "0     Description\n",
       "1             Job\n",
       "2         Summary\n",
       "3         Seeking\n",
       "4               a\n",
       "...           ...\n",
       "4365    typically\n",
       "4366         outl\n",
       "4374    Extensive\n",
       "4375         unde\n",
       "4407     Benefits\n",
       "\n",
       "[789 rows x 1 columns]"
      ]
     },
     "execution_count": 49,
     "metadata": {},
     "output_type": "execute_result"
    }
   ],
   "source": [
    "filtered_df = filtered_df.drop_duplicates()\n",
    "filtered_df"
   ]
  },
  {
   "cell_type": "code",
   "execution_count": 50,
   "metadata": {},
   "outputs": [],
   "source": [
    "filtered_df.to_csv(\"Clean Words Dataset.csv\", index=False)"
   ]
  }
 ],
 "metadata": {
  "kernelspec": {
   "display_name": "Python 3",
   "language": "python",
   "name": "python3"
  },
  "language_info": {
   "codemirror_mode": {
    "name": "ipython",
    "version": 3
   },
   "file_extension": ".py",
   "mimetype": "text/x-python",
   "name": "python",
   "nbconvert_exporter": "python",
   "pygments_lexer": "ipython3",
   "version": "3.11.4"
  },
  "orig_nbformat": 4
 },
 "nbformat": 4,
 "nbformat_minor": 2
}
